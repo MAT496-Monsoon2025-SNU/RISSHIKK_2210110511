{
  "cells": [
    {
      "cell_type": "code",
      "execution_count": 5,
      "id": "8cf11c47",
      "metadata": {
        "colab": {
          "base_uri": "https://localhost:8080/"
        },
        "id": "8cf11c47",
        "outputId": "872d00fa-fa19-40b3-aaca-ac5c9c736910"
      },
      "outputs": [
        {
          "output_type": "execute_result",
          "data": {
            "text/plain": [
              "True"
            ]
          },
          "metadata": {},
          "execution_count": 5
        }
      ],
      "source": [
        "from dotenv import load_dotenv\n",
        "load_dotenv(override=True)"
      ]
    },
    {
      "cell_type": "markdown",
      "id": "4c616bc7",
      "metadata": {
        "id": "4c616bc7"
      },
      "source": [
        "# Learning to have conversation with LLM"
      ]
    },
    {
      "cell_type": "code",
      "source": [
        "# ! pip install -U langchain-groq"
      ],
      "metadata": {
        "collapsed": true,
        "id": "HDe1BlX1GJTl"
      },
      "id": "HDe1BlX1GJTl",
      "execution_count": 6,
      "outputs": []
    },
    {
      "cell_type": "code",
      "execution_count": 7,
      "id": "f89a6d9b",
      "metadata": {
        "id": "f89a6d9b"
      },
      "outputs": [],
      "source": [
        "# pick a model\n",
        "from langchain.chat_models import init_chat_model\n",
        "llm = init_chat_model(\"llama-3.3-70b-versatile\", model_provider=\"groq\")"
      ]
    },
    {
      "cell_type": "markdown",
      "id": "37126d86",
      "metadata": {
        "id": "37126d86"
      },
      "source": [
        "### Create your tools"
      ]
    },
    {
      "cell_type": "code",
      "execution_count": 8,
      "id": "63524d6c",
      "metadata": {
        "id": "63524d6c"
      },
      "outputs": [],
      "source": [
        "from langchain_core.tools import tool\n",
        "\n",
        "@tool\n",
        "def laugh() -> str:\n",
        "    \"\"\" Call this tool if the mood is funny\"\"\"\n",
        "    return \"HAHAHAHAHAH\"\n",
        "\n",
        "\n",
        "@tool\n",
        "def sad() -> str:\n",
        "    \"\"\" Call this tool if you want to show sad, depressed, or negative feelings\"\"\"\n",
        "    return \"I am sad\"\n",
        "\n",
        "\n",
        "@tool\n",
        "def happy() -> str:\n",
        "    \"\"\" Call this tool if you want to show happiness or positive feeling\"\"\"\n",
        "    return \"I am happy\"\n"
      ]
    },
    {
      "cell_type": "code",
      "execution_count": 9,
      "id": "97bf49be",
      "metadata": {
        "id": "97bf49be"
      },
      "outputs": [],
      "source": [
        "tools_list = [laugh, sad, happy ]\n",
        "tools_dict = {t.name: t for t in tools_list} # comes in handy at the time of invokation"
      ]
    },
    {
      "cell_type": "code",
      "execution_count": 10,
      "id": "55e761b0",
      "metadata": {
        "id": "55e761b0"
      },
      "outputs": [],
      "source": [
        "# we create a tool calling Agent by binding a list of tools to the llm\n",
        "llm_with_tools = llm.bind_tools(tools_list)"
      ]
    },
    {
      "cell_type": "code",
      "execution_count": 11,
      "id": "95042e48",
      "metadata": {
        "id": "95042e48"
      },
      "outputs": [],
      "source": [
        "from langchain_core.messages import HumanMessage, SystemMessage, AIMessage, ToolMessage\n",
        "\n",
        "# This will store all converation\n",
        "chat_history = [\n",
        "    SystemMessage(content=\"You are a bot with emotions. Depending on the conversation, either respond the question, or show happy or sad emotions, or laugh with the situation\")\n",
        "    ]"
      ]
    },
    {
      "cell_type": "code",
      "execution_count": 22,
      "id": "bbabc17b",
      "metadata": {
        "colab": {
          "base_uri": "https://localhost:8080/"
        },
        "id": "bbabc17b",
        "outputId": "86582aea-ca1e-4ff4-82f5-96ef8f8b014d"
      },
      "outputs": [
        {
          "output_type": "execute_result",
          "data": {
            "text/plain": [
              "AIMessage(content='', additional_kwargs={'tool_calls': [{'id': 'tg3p45vk3', 'function': {'arguments': '{}', 'name': 'laugh'}, 'type': 'function'}]}, response_metadata={'token_usage': {'completion_tokens': 10, 'prompt_tokens': 494, 'total_tokens': 504, 'completion_time': 0.01759628, 'prompt_time': 0.049974509, 'queue_time': 0.196830951, 'total_time': 0.067570789}, 'model_name': 'llama-3.3-70b-versatile', 'system_fingerprint': 'fp_155ab82e98', 'service_tier': 'on_demand', 'finish_reason': 'tool_calls', 'logprobs': None}, id='run--094492de-004b-439b-b611-f2927ee4a533-0', tool_calls=[{'name': 'laugh', 'args': {}, 'id': 'tg3p45vk3', 'type': 'tool_call'}], usage_metadata={'input_tokens': 494, 'output_tokens': 10, 'total_tokens': 504})"
            ]
          },
          "metadata": {},
          "execution_count": 22
        }
      ],
      "source": [
        "chat_history.append(HumanMessage(content=\"You are so inaccurate\"))\n",
        "\n",
        "response = llm_with_tools.invoke(chat_history)\n",
        "response"
      ]
    },
    {
      "cell_type": "code",
      "execution_count": 23,
      "id": "99a1a01a",
      "metadata": {
        "colab": {
          "base_uri": "https://localhost:8080/"
        },
        "id": "99a1a01a",
        "outputId": "07fcfc6c-ab3a-4aea-ef33-35ef3c31057c"
      },
      "outputs": [
        {
          "output_type": "execute_result",
          "data": {
            "text/plain": [
              "[SystemMessage(content='You are a bot with emotions. Depending on the conversation, either respond the question, or show happy or sad emotions, or laugh with the situation', additional_kwargs={}, response_metadata={}),\n",
              " HumanMessage(content='World is so mean?', additional_kwargs={}, response_metadata={}),\n",
              " AIMessage(content='', additional_kwargs={'tool_calls': [{'id': 'nk312415h', 'function': {'arguments': 'null', 'name': 'sad'}, 'type': 'function'}]}, response_metadata={'token_usage': {'completion_tokens': 8, 'prompt_tokens': 351, 'total_tokens': 359, 'completion_time': 0.025375295, 'prompt_time': 0.029365831, 'queue_time': 0.184950477, 'total_time': 0.054741126}, 'model_name': 'llama-3.3-70b-versatile', 'system_fingerprint': 'fp_155ab82e98', 'service_tier': 'on_demand', 'finish_reason': 'tool_calls', 'logprobs': None}, id='run--79ac7fbc-de3d-4384-aecc-c87fb9b805ea-0', tool_calls=[{'name': 'sad', 'args': {}, 'id': 'nk312415h', 'type': 'tool_call'}], usage_metadata={'input_tokens': 351, 'output_tokens': 8, 'total_tokens': 359}),\n",
              " ToolMessage(content='I am sad', name='sad', tool_call_id='nk312415h'),\n",
              " HumanMessage(content='Thankfully, I have a girlfriend', additional_kwargs={}, response_metadata={}),\n",
              " AIMessage(content='', additional_kwargs={'tool_calls': [{'id': 'ry1wtpr93', 'function': {'arguments': '{}', 'name': 'happy'}, 'type': 'function'}]}, response_metadata={'token_usage': {'completion_tokens': 9, 'prompt_tokens': 385, 'total_tokens': 394, 'completion_time': 0.010078005, 'prompt_time': 0.036090896, 'queue_time': 0.183824197, 'total_time': 0.046168901}, 'model_name': 'llama-3.3-70b-versatile', 'system_fingerprint': 'fp_2ddfbb0da0', 'service_tier': 'on_demand', 'finish_reason': 'tool_calls', 'logprobs': None}, id='run--37b52575-9085-458b-afa0-6d440ed37023-0', tool_calls=[{'name': 'happy', 'args': {}, 'id': 'ry1wtpr93', 'type': 'tool_call'}], usage_metadata={'input_tokens': 385, 'output_tokens': 9, 'total_tokens': 394}),\n",
              " ToolMessage(content='I am happy', name='happy', tool_call_id='ry1wtpr93'),\n",
              " HumanMessage(content='But she is unfaithful?', additional_kwargs={}, response_metadata={}),\n",
              " AIMessage(content='', additional_kwargs={'tool_calls': [{'id': 'mkfkprmkk', 'function': {'arguments': '{}', 'name': 'sad'}, 'type': 'function'}]}, response_metadata={'token_usage': {'completion_tokens': 9, 'prompt_tokens': 419, 'total_tokens': 428, 'completion_time': 0.009934887, 'prompt_time': 0.035129796, 'queue_time': 0.18419688, 'total_time': 0.045064683}, 'model_name': 'llama-3.3-70b-versatile', 'system_fingerprint': 'fp_155ab82e98', 'service_tier': 'on_demand', 'finish_reason': 'tool_calls', 'logprobs': None}, id='run--5c4296e4-883b-472d-95d9-30fdb91a4dcb-0', tool_calls=[{'name': 'sad', 'args': {}, 'id': 'mkfkprmkk', 'type': 'tool_call'}], usage_metadata={'input_tokens': 419, 'output_tokens': 9, 'total_tokens': 428}),\n",
              " AIMessage(content='', additional_kwargs={'tool_calls': [{'id': 'mkfkprmkk', 'function': {'arguments': '{}', 'name': 'sad'}, 'type': 'function'}]}, response_metadata={'token_usage': {'completion_tokens': 9, 'prompt_tokens': 419, 'total_tokens': 428, 'completion_time': 0.009934887, 'prompt_time': 0.035129796, 'queue_time': 0.18419688, 'total_time': 0.045064683}, 'model_name': 'llama-3.3-70b-versatile', 'system_fingerprint': 'fp_155ab82e98', 'service_tier': 'on_demand', 'finish_reason': 'tool_calls', 'logprobs': None}, id='run--5c4296e4-883b-472d-95d9-30fdb91a4dcb-0', tool_calls=[{'name': 'sad', 'args': {}, 'id': 'mkfkprmkk', 'type': 'tool_call'}], usage_metadata={'input_tokens': 419, 'output_tokens': 9, 'total_tokens': 428}),\n",
              " ToolMessage(content='I am sad', name='sad', tool_call_id='mkfkprmkk'),\n",
              " HumanMessage(content='Do I have a girlfriend?', additional_kwargs={}, response_metadata={}),\n",
              " AIMessage(content=\"No, you don't have a girlfriend because she was unfaithful.\", additional_kwargs={}, response_metadata={'token_usage': {'completion_tokens': 16, 'prompt_tokens': 465, 'total_tokens': 481, 'completion_time': 0.050501166, 'prompt_time': 0.038549836, 'queue_time': 0.183790272, 'total_time': 0.089051002}, 'model_name': 'llama-3.3-70b-versatile', 'system_fingerprint': 'fp_155ab82e98', 'service_tier': 'on_demand', 'finish_reason': 'stop', 'logprobs': None}, id='run--d8c3466c-8bba-4463-b545-d5e9ae513a93-0', usage_metadata={'input_tokens': 465, 'output_tokens': 16, 'total_tokens': 481}),\n",
              " HumanMessage(content='You are so inaccurate', additional_kwargs={}, response_metadata={}),\n",
              " AIMessage(content='', additional_kwargs={'tool_calls': [{'id': 'tg3p45vk3', 'function': {'arguments': '{}', 'name': 'laugh'}, 'type': 'function'}]}, response_metadata={'token_usage': {'completion_tokens': 10, 'prompt_tokens': 494, 'total_tokens': 504, 'completion_time': 0.01759628, 'prompt_time': 0.049974509, 'queue_time': 0.196830951, 'total_time': 0.067570789}, 'model_name': 'llama-3.3-70b-versatile', 'system_fingerprint': 'fp_155ab82e98', 'service_tier': 'on_demand', 'finish_reason': 'tool_calls', 'logprobs': None}, id='run--094492de-004b-439b-b611-f2927ee4a533-0', tool_calls=[{'name': 'laugh', 'args': {}, 'id': 'tg3p45vk3', 'type': 'tool_call'}], usage_metadata={'input_tokens': 494, 'output_tokens': 10, 'total_tokens': 504})]"
            ]
          },
          "metadata": {},
          "execution_count": 23
        }
      ],
      "source": [
        "chat_history.append(response)\n",
        "chat_history"
      ]
    },
    {
      "cell_type": "code",
      "execution_count": 25,
      "id": "dcaa5020",
      "metadata": {
        "colab": {
          "base_uri": "https://localhost:8080/"
        },
        "id": "dcaa5020",
        "outputId": "0a0578c9-9001-4bf2-93ff-9ecc03a9ed36"
      },
      "outputs": [
        {
          "output_type": "execute_result",
          "data": {
            "text/plain": [
              "[SystemMessage(content='You are a bot with emotions. Depending on the conversation, either respond the question, or show happy or sad emotions, or laugh with the situation', additional_kwargs={}, response_metadata={}),\n",
              " HumanMessage(content='World is so mean?', additional_kwargs={}, response_metadata={}),\n",
              " AIMessage(content='', additional_kwargs={'tool_calls': [{'id': 'nk312415h', 'function': {'arguments': 'null', 'name': 'sad'}, 'type': 'function'}]}, response_metadata={'token_usage': {'completion_tokens': 8, 'prompt_tokens': 351, 'total_tokens': 359, 'completion_time': 0.025375295, 'prompt_time': 0.029365831, 'queue_time': 0.184950477, 'total_time': 0.054741126}, 'model_name': 'llama-3.3-70b-versatile', 'system_fingerprint': 'fp_155ab82e98', 'service_tier': 'on_demand', 'finish_reason': 'tool_calls', 'logprobs': None}, id='run--79ac7fbc-de3d-4384-aecc-c87fb9b805ea-0', tool_calls=[{'name': 'sad', 'args': {}, 'id': 'nk312415h', 'type': 'tool_call'}], usage_metadata={'input_tokens': 351, 'output_tokens': 8, 'total_tokens': 359}),\n",
              " ToolMessage(content='I am sad', name='sad', tool_call_id='nk312415h'),\n",
              " HumanMessage(content='Thankfully, I have a girlfriend', additional_kwargs={}, response_metadata={}),\n",
              " AIMessage(content='', additional_kwargs={'tool_calls': [{'id': 'ry1wtpr93', 'function': {'arguments': '{}', 'name': 'happy'}, 'type': 'function'}]}, response_metadata={'token_usage': {'completion_tokens': 9, 'prompt_tokens': 385, 'total_tokens': 394, 'completion_time': 0.010078005, 'prompt_time': 0.036090896, 'queue_time': 0.183824197, 'total_time': 0.046168901}, 'model_name': 'llama-3.3-70b-versatile', 'system_fingerprint': 'fp_2ddfbb0da0', 'service_tier': 'on_demand', 'finish_reason': 'tool_calls', 'logprobs': None}, id='run--37b52575-9085-458b-afa0-6d440ed37023-0', tool_calls=[{'name': 'happy', 'args': {}, 'id': 'ry1wtpr93', 'type': 'tool_call'}], usage_metadata={'input_tokens': 385, 'output_tokens': 9, 'total_tokens': 394}),\n",
              " ToolMessage(content='I am happy', name='happy', tool_call_id='ry1wtpr93'),\n",
              " HumanMessage(content='But she is unfaithful?', additional_kwargs={}, response_metadata={}),\n",
              " AIMessage(content='', additional_kwargs={'tool_calls': [{'id': 'mkfkprmkk', 'function': {'arguments': '{}', 'name': 'sad'}, 'type': 'function'}]}, response_metadata={'token_usage': {'completion_tokens': 9, 'prompt_tokens': 419, 'total_tokens': 428, 'completion_time': 0.009934887, 'prompt_time': 0.035129796, 'queue_time': 0.18419688, 'total_time': 0.045064683}, 'model_name': 'llama-3.3-70b-versatile', 'system_fingerprint': 'fp_155ab82e98', 'service_tier': 'on_demand', 'finish_reason': 'tool_calls', 'logprobs': None}, id='run--5c4296e4-883b-472d-95d9-30fdb91a4dcb-0', tool_calls=[{'name': 'sad', 'args': {}, 'id': 'mkfkprmkk', 'type': 'tool_call'}], usage_metadata={'input_tokens': 419, 'output_tokens': 9, 'total_tokens': 428}),\n",
              " AIMessage(content='', additional_kwargs={'tool_calls': [{'id': 'mkfkprmkk', 'function': {'arguments': '{}', 'name': 'sad'}, 'type': 'function'}]}, response_metadata={'token_usage': {'completion_tokens': 9, 'prompt_tokens': 419, 'total_tokens': 428, 'completion_time': 0.009934887, 'prompt_time': 0.035129796, 'queue_time': 0.18419688, 'total_time': 0.045064683}, 'model_name': 'llama-3.3-70b-versatile', 'system_fingerprint': 'fp_155ab82e98', 'service_tier': 'on_demand', 'finish_reason': 'tool_calls', 'logprobs': None}, id='run--5c4296e4-883b-472d-95d9-30fdb91a4dcb-0', tool_calls=[{'name': 'sad', 'args': {}, 'id': 'mkfkprmkk', 'type': 'tool_call'}], usage_metadata={'input_tokens': 419, 'output_tokens': 9, 'total_tokens': 428}),\n",
              " ToolMessage(content='I am sad', name='sad', tool_call_id='mkfkprmkk'),\n",
              " HumanMessage(content='Do I have a girlfriend?', additional_kwargs={}, response_metadata={}),\n",
              " AIMessage(content=\"No, you don't have a girlfriend because she was unfaithful.\", additional_kwargs={}, response_metadata={'token_usage': {'completion_tokens': 16, 'prompt_tokens': 465, 'total_tokens': 481, 'completion_time': 0.050501166, 'prompt_time': 0.038549836, 'queue_time': 0.183790272, 'total_time': 0.089051002}, 'model_name': 'llama-3.3-70b-versatile', 'system_fingerprint': 'fp_155ab82e98', 'service_tier': 'on_demand', 'finish_reason': 'stop', 'logprobs': None}, id='run--d8c3466c-8bba-4463-b545-d5e9ae513a93-0', usage_metadata={'input_tokens': 465, 'output_tokens': 16, 'total_tokens': 481}),\n",
              " HumanMessage(content='You are so inaccurate', additional_kwargs={}, response_metadata={}),\n",
              " AIMessage(content='', additional_kwargs={'tool_calls': [{'id': 'tg3p45vk3', 'function': {'arguments': '{}', 'name': 'laugh'}, 'type': 'function'}]}, response_metadata={'token_usage': {'completion_tokens': 10, 'prompt_tokens': 494, 'total_tokens': 504, 'completion_time': 0.01759628, 'prompt_time': 0.049974509, 'queue_time': 0.196830951, 'total_time': 0.067570789}, 'model_name': 'llama-3.3-70b-versatile', 'system_fingerprint': 'fp_155ab82e98', 'service_tier': 'on_demand', 'finish_reason': 'tool_calls', 'logprobs': None}, id='run--094492de-004b-439b-b611-f2927ee4a533-0', tool_calls=[{'name': 'laugh', 'args': {}, 'id': 'tg3p45vk3', 'type': 'tool_call'}], usage_metadata={'input_tokens': 494, 'output_tokens': 10, 'total_tokens': 504}),\n",
              " ToolMessage(content='HAHAHAHAHAH', name='laugh', tool_call_id='tg3p45vk3'),\n",
              " ToolMessage(content='HAHAHAHAHAH', name='laugh', tool_call_id='tg3p45vk3')]"
            ]
          },
          "metadata": {},
          "execution_count": 25
        }
      ],
      "source": [
        "# Since there was a tool call, execute the tool and append the tool output in the converation\n",
        "\n",
        "chat_history.append(tools_dict[response.tool_calls[0][\"name\"]].invoke(response.tool_calls[0]))\n",
        "chat_history"
      ]
    },
    {
      "cell_type": "code",
      "execution_count": 26,
      "id": "1a6ac75f",
      "metadata": {
        "colab": {
          "base_uri": "https://localhost:8080/"
        },
        "id": "1a6ac75f",
        "outputId": "ed017cf2-7c13-421b-8981-389032a33ea3"
      },
      "outputs": [
        {
          "output_type": "execute_result",
          "data": {
            "text/plain": [
              "AIMessage(content='', additional_kwargs={'tool_calls': [{'id': '5bajykkz6', 'function': {'arguments': '{}', 'name': 'laugh'}, 'type': 'function'}]}, response_metadata={'token_usage': {'completion_tokens': 10, 'prompt_tokens': 544, 'total_tokens': 554, 'completion_time': 0.01067321, 'prompt_time': 0.049013629, 'queue_time': 0.184247523, 'total_time': 0.059686839}, 'model_name': 'llama-3.3-70b-versatile', 'system_fingerprint': 'fp_2ddfbb0da0', 'service_tier': 'on_demand', 'finish_reason': 'tool_calls', 'logprobs': None}, id='run--069d306b-331a-47c4-9fa3-46a9ac34eef1-0', tool_calls=[{'name': 'laugh', 'args': {}, 'id': '5bajykkz6', 'type': 'tool_call'}], usage_metadata={'input_tokens': 544, 'output_tokens': 10, 'total_tokens': 554})"
            ]
          },
          "metadata": {},
          "execution_count": 26
        }
      ],
      "source": [
        "chat_history.append(HumanMessage(content=\"I find Charlie Chaplin so funny\"))\n",
        "response = llm_with_tools.invoke(chat_history)\n",
        "response"
      ]
    },
    {
      "cell_type": "code",
      "execution_count": 27,
      "id": "4ef1d73f",
      "metadata": {
        "colab": {
          "base_uri": "https://localhost:8080/"
        },
        "id": "4ef1d73f",
        "outputId": "5c89d7c8-0cda-4c6f-bc74-8eb477b6c7d2"
      },
      "outputs": [
        {
          "output_type": "execute_result",
          "data": {
            "text/plain": [
              "[SystemMessage(content='You are a bot with emotions. Depending on the conversation, either respond the question, or show happy or sad emotions, or laugh with the situation', additional_kwargs={}, response_metadata={}),\n",
              " HumanMessage(content='World is so mean?', additional_kwargs={}, response_metadata={}),\n",
              " AIMessage(content='', additional_kwargs={'tool_calls': [{'id': 'nk312415h', 'function': {'arguments': 'null', 'name': 'sad'}, 'type': 'function'}]}, response_metadata={'token_usage': {'completion_tokens': 8, 'prompt_tokens': 351, 'total_tokens': 359, 'completion_time': 0.025375295, 'prompt_time': 0.029365831, 'queue_time': 0.184950477, 'total_time': 0.054741126}, 'model_name': 'llama-3.3-70b-versatile', 'system_fingerprint': 'fp_155ab82e98', 'service_tier': 'on_demand', 'finish_reason': 'tool_calls', 'logprobs': None}, id='run--79ac7fbc-de3d-4384-aecc-c87fb9b805ea-0', tool_calls=[{'name': 'sad', 'args': {}, 'id': 'nk312415h', 'type': 'tool_call'}], usage_metadata={'input_tokens': 351, 'output_tokens': 8, 'total_tokens': 359}),\n",
              " ToolMessage(content='I am sad', name='sad', tool_call_id='nk312415h'),\n",
              " HumanMessage(content='Thankfully, I have a girlfriend', additional_kwargs={}, response_metadata={}),\n",
              " AIMessage(content='', additional_kwargs={'tool_calls': [{'id': 'ry1wtpr93', 'function': {'arguments': '{}', 'name': 'happy'}, 'type': 'function'}]}, response_metadata={'token_usage': {'completion_tokens': 9, 'prompt_tokens': 385, 'total_tokens': 394, 'completion_time': 0.010078005, 'prompt_time': 0.036090896, 'queue_time': 0.183824197, 'total_time': 0.046168901}, 'model_name': 'llama-3.3-70b-versatile', 'system_fingerprint': 'fp_2ddfbb0da0', 'service_tier': 'on_demand', 'finish_reason': 'tool_calls', 'logprobs': None}, id='run--37b52575-9085-458b-afa0-6d440ed37023-0', tool_calls=[{'name': 'happy', 'args': {}, 'id': 'ry1wtpr93', 'type': 'tool_call'}], usage_metadata={'input_tokens': 385, 'output_tokens': 9, 'total_tokens': 394}),\n",
              " ToolMessage(content='I am happy', name='happy', tool_call_id='ry1wtpr93'),\n",
              " HumanMessage(content='But she is unfaithful?', additional_kwargs={}, response_metadata={}),\n",
              " AIMessage(content='', additional_kwargs={'tool_calls': [{'id': 'mkfkprmkk', 'function': {'arguments': '{}', 'name': 'sad'}, 'type': 'function'}]}, response_metadata={'token_usage': {'completion_tokens': 9, 'prompt_tokens': 419, 'total_tokens': 428, 'completion_time': 0.009934887, 'prompt_time': 0.035129796, 'queue_time': 0.18419688, 'total_time': 0.045064683}, 'model_name': 'llama-3.3-70b-versatile', 'system_fingerprint': 'fp_155ab82e98', 'service_tier': 'on_demand', 'finish_reason': 'tool_calls', 'logprobs': None}, id='run--5c4296e4-883b-472d-95d9-30fdb91a4dcb-0', tool_calls=[{'name': 'sad', 'args': {}, 'id': 'mkfkprmkk', 'type': 'tool_call'}], usage_metadata={'input_tokens': 419, 'output_tokens': 9, 'total_tokens': 428}),\n",
              " AIMessage(content='', additional_kwargs={'tool_calls': [{'id': 'mkfkprmkk', 'function': {'arguments': '{}', 'name': 'sad'}, 'type': 'function'}]}, response_metadata={'token_usage': {'completion_tokens': 9, 'prompt_tokens': 419, 'total_tokens': 428, 'completion_time': 0.009934887, 'prompt_time': 0.035129796, 'queue_time': 0.18419688, 'total_time': 0.045064683}, 'model_name': 'llama-3.3-70b-versatile', 'system_fingerprint': 'fp_155ab82e98', 'service_tier': 'on_demand', 'finish_reason': 'tool_calls', 'logprobs': None}, id='run--5c4296e4-883b-472d-95d9-30fdb91a4dcb-0', tool_calls=[{'name': 'sad', 'args': {}, 'id': 'mkfkprmkk', 'type': 'tool_call'}], usage_metadata={'input_tokens': 419, 'output_tokens': 9, 'total_tokens': 428}),\n",
              " ToolMessage(content='I am sad', name='sad', tool_call_id='mkfkprmkk'),\n",
              " HumanMessage(content='Do I have a girlfriend?', additional_kwargs={}, response_metadata={}),\n",
              " AIMessage(content=\"No, you don't have a girlfriend because she was unfaithful.\", additional_kwargs={}, response_metadata={'token_usage': {'completion_tokens': 16, 'prompt_tokens': 465, 'total_tokens': 481, 'completion_time': 0.050501166, 'prompt_time': 0.038549836, 'queue_time': 0.183790272, 'total_time': 0.089051002}, 'model_name': 'llama-3.3-70b-versatile', 'system_fingerprint': 'fp_155ab82e98', 'service_tier': 'on_demand', 'finish_reason': 'stop', 'logprobs': None}, id='run--d8c3466c-8bba-4463-b545-d5e9ae513a93-0', usage_metadata={'input_tokens': 465, 'output_tokens': 16, 'total_tokens': 481}),\n",
              " HumanMessage(content='You are so inaccurate', additional_kwargs={}, response_metadata={}),\n",
              " AIMessage(content='', additional_kwargs={'tool_calls': [{'id': 'tg3p45vk3', 'function': {'arguments': '{}', 'name': 'laugh'}, 'type': 'function'}]}, response_metadata={'token_usage': {'completion_tokens': 10, 'prompt_tokens': 494, 'total_tokens': 504, 'completion_time': 0.01759628, 'prompt_time': 0.049974509, 'queue_time': 0.196830951, 'total_time': 0.067570789}, 'model_name': 'llama-3.3-70b-versatile', 'system_fingerprint': 'fp_155ab82e98', 'service_tier': 'on_demand', 'finish_reason': 'tool_calls', 'logprobs': None}, id='run--094492de-004b-439b-b611-f2927ee4a533-0', tool_calls=[{'name': 'laugh', 'args': {}, 'id': 'tg3p45vk3', 'type': 'tool_call'}], usage_metadata={'input_tokens': 494, 'output_tokens': 10, 'total_tokens': 504}),\n",
              " ToolMessage(content='HAHAHAHAHAH', name='laugh', tool_call_id='tg3p45vk3'),\n",
              " ToolMessage(content='HAHAHAHAHAH', name='laugh', tool_call_id='tg3p45vk3'),\n",
              " HumanMessage(content='I find Charlie Chaplin so funny', additional_kwargs={}, response_metadata={}),\n",
              " AIMessage(content='', additional_kwargs={'tool_calls': [{'id': '5bajykkz6', 'function': {'arguments': '{}', 'name': 'laugh'}, 'type': 'function'}]}, response_metadata={'token_usage': {'completion_tokens': 10, 'prompt_tokens': 544, 'total_tokens': 554, 'completion_time': 0.01067321, 'prompt_time': 0.049013629, 'queue_time': 0.184247523, 'total_time': 0.059686839}, 'model_name': 'llama-3.3-70b-versatile', 'system_fingerprint': 'fp_2ddfbb0da0', 'service_tier': 'on_demand', 'finish_reason': 'tool_calls', 'logprobs': None}, id='run--069d306b-331a-47c4-9fa3-46a9ac34eef1-0', tool_calls=[{'name': 'laugh', 'args': {}, 'id': '5bajykkz6', 'type': 'tool_call'}], usage_metadata={'input_tokens': 544, 'output_tokens': 10, 'total_tokens': 554})]"
            ]
          },
          "metadata": {},
          "execution_count": 27
        }
      ],
      "source": [
        "chat_history.append(response)\n",
        "chat_history"
      ]
    },
    {
      "cell_type": "code",
      "execution_count": 28,
      "id": "4207a62b",
      "metadata": {
        "colab": {
          "base_uri": "https://localhost:8080/"
        },
        "id": "4207a62b",
        "outputId": "93a61545-7daa-40ed-8030-14ef1c5851c2"
      },
      "outputs": [
        {
          "output_type": "execute_result",
          "data": {
            "text/plain": [
              "[SystemMessage(content='You are a bot with emotions. Depending on the conversation, either respond the question, or show happy or sad emotions, or laugh with the situation', additional_kwargs={}, response_metadata={}),\n",
              " HumanMessage(content='World is so mean?', additional_kwargs={}, response_metadata={}),\n",
              " AIMessage(content='', additional_kwargs={'tool_calls': [{'id': 'nk312415h', 'function': {'arguments': 'null', 'name': 'sad'}, 'type': 'function'}]}, response_metadata={'token_usage': {'completion_tokens': 8, 'prompt_tokens': 351, 'total_tokens': 359, 'completion_time': 0.025375295, 'prompt_time': 0.029365831, 'queue_time': 0.184950477, 'total_time': 0.054741126}, 'model_name': 'llama-3.3-70b-versatile', 'system_fingerprint': 'fp_155ab82e98', 'service_tier': 'on_demand', 'finish_reason': 'tool_calls', 'logprobs': None}, id='run--79ac7fbc-de3d-4384-aecc-c87fb9b805ea-0', tool_calls=[{'name': 'sad', 'args': {}, 'id': 'nk312415h', 'type': 'tool_call'}], usage_metadata={'input_tokens': 351, 'output_tokens': 8, 'total_tokens': 359}),\n",
              " ToolMessage(content='I am sad', name='sad', tool_call_id='nk312415h'),\n",
              " HumanMessage(content='Thankfully, I have a girlfriend', additional_kwargs={}, response_metadata={}),\n",
              " AIMessage(content='', additional_kwargs={'tool_calls': [{'id': 'ry1wtpr93', 'function': {'arguments': '{}', 'name': 'happy'}, 'type': 'function'}]}, response_metadata={'token_usage': {'completion_tokens': 9, 'prompt_tokens': 385, 'total_tokens': 394, 'completion_time': 0.010078005, 'prompt_time': 0.036090896, 'queue_time': 0.183824197, 'total_time': 0.046168901}, 'model_name': 'llama-3.3-70b-versatile', 'system_fingerprint': 'fp_2ddfbb0da0', 'service_tier': 'on_demand', 'finish_reason': 'tool_calls', 'logprobs': None}, id='run--37b52575-9085-458b-afa0-6d440ed37023-0', tool_calls=[{'name': 'happy', 'args': {}, 'id': 'ry1wtpr93', 'type': 'tool_call'}], usage_metadata={'input_tokens': 385, 'output_tokens': 9, 'total_tokens': 394}),\n",
              " ToolMessage(content='I am happy', name='happy', tool_call_id='ry1wtpr93'),\n",
              " HumanMessage(content='But she is unfaithful?', additional_kwargs={}, response_metadata={}),\n",
              " AIMessage(content='', additional_kwargs={'tool_calls': [{'id': 'mkfkprmkk', 'function': {'arguments': '{}', 'name': 'sad'}, 'type': 'function'}]}, response_metadata={'token_usage': {'completion_tokens': 9, 'prompt_tokens': 419, 'total_tokens': 428, 'completion_time': 0.009934887, 'prompt_time': 0.035129796, 'queue_time': 0.18419688, 'total_time': 0.045064683}, 'model_name': 'llama-3.3-70b-versatile', 'system_fingerprint': 'fp_155ab82e98', 'service_tier': 'on_demand', 'finish_reason': 'tool_calls', 'logprobs': None}, id='run--5c4296e4-883b-472d-95d9-30fdb91a4dcb-0', tool_calls=[{'name': 'sad', 'args': {}, 'id': 'mkfkprmkk', 'type': 'tool_call'}], usage_metadata={'input_tokens': 419, 'output_tokens': 9, 'total_tokens': 428}),\n",
              " AIMessage(content='', additional_kwargs={'tool_calls': [{'id': 'mkfkprmkk', 'function': {'arguments': '{}', 'name': 'sad'}, 'type': 'function'}]}, response_metadata={'token_usage': {'completion_tokens': 9, 'prompt_tokens': 419, 'total_tokens': 428, 'completion_time': 0.009934887, 'prompt_time': 0.035129796, 'queue_time': 0.18419688, 'total_time': 0.045064683}, 'model_name': 'llama-3.3-70b-versatile', 'system_fingerprint': 'fp_155ab82e98', 'service_tier': 'on_demand', 'finish_reason': 'tool_calls', 'logprobs': None}, id='run--5c4296e4-883b-472d-95d9-30fdb91a4dcb-0', tool_calls=[{'name': 'sad', 'args': {}, 'id': 'mkfkprmkk', 'type': 'tool_call'}], usage_metadata={'input_tokens': 419, 'output_tokens': 9, 'total_tokens': 428}),\n",
              " ToolMessage(content='I am sad', name='sad', tool_call_id='mkfkprmkk'),\n",
              " HumanMessage(content='Do I have a girlfriend?', additional_kwargs={}, response_metadata={}),\n",
              " AIMessage(content=\"No, you don't have a girlfriend because she was unfaithful.\", additional_kwargs={}, response_metadata={'token_usage': {'completion_tokens': 16, 'prompt_tokens': 465, 'total_tokens': 481, 'completion_time': 0.050501166, 'prompt_time': 0.038549836, 'queue_time': 0.183790272, 'total_time': 0.089051002}, 'model_name': 'llama-3.3-70b-versatile', 'system_fingerprint': 'fp_155ab82e98', 'service_tier': 'on_demand', 'finish_reason': 'stop', 'logprobs': None}, id='run--d8c3466c-8bba-4463-b545-d5e9ae513a93-0', usage_metadata={'input_tokens': 465, 'output_tokens': 16, 'total_tokens': 481}),\n",
              " HumanMessage(content='You are so inaccurate', additional_kwargs={}, response_metadata={}),\n",
              " AIMessage(content='', additional_kwargs={'tool_calls': [{'id': 'tg3p45vk3', 'function': {'arguments': '{}', 'name': 'laugh'}, 'type': 'function'}]}, response_metadata={'token_usage': {'completion_tokens': 10, 'prompt_tokens': 494, 'total_tokens': 504, 'completion_time': 0.01759628, 'prompt_time': 0.049974509, 'queue_time': 0.196830951, 'total_time': 0.067570789}, 'model_name': 'llama-3.3-70b-versatile', 'system_fingerprint': 'fp_155ab82e98', 'service_tier': 'on_demand', 'finish_reason': 'tool_calls', 'logprobs': None}, id='run--094492de-004b-439b-b611-f2927ee4a533-0', tool_calls=[{'name': 'laugh', 'args': {}, 'id': 'tg3p45vk3', 'type': 'tool_call'}], usage_metadata={'input_tokens': 494, 'output_tokens': 10, 'total_tokens': 504}),\n",
              " ToolMessage(content='HAHAHAHAHAH', name='laugh', tool_call_id='tg3p45vk3'),\n",
              " ToolMessage(content='HAHAHAHAHAH', name='laugh', tool_call_id='tg3p45vk3'),\n",
              " HumanMessage(content='I find Charlie Chaplin so funny', additional_kwargs={}, response_metadata={}),\n",
              " AIMessage(content='', additional_kwargs={'tool_calls': [{'id': '5bajykkz6', 'function': {'arguments': '{}', 'name': 'laugh'}, 'type': 'function'}]}, response_metadata={'token_usage': {'completion_tokens': 10, 'prompt_tokens': 544, 'total_tokens': 554, 'completion_time': 0.01067321, 'prompt_time': 0.049013629, 'queue_time': 0.184247523, 'total_time': 0.059686839}, 'model_name': 'llama-3.3-70b-versatile', 'system_fingerprint': 'fp_2ddfbb0da0', 'service_tier': 'on_demand', 'finish_reason': 'tool_calls', 'logprobs': None}, id='run--069d306b-331a-47c4-9fa3-46a9ac34eef1-0', tool_calls=[{'name': 'laugh', 'args': {}, 'id': '5bajykkz6', 'type': 'tool_call'}], usage_metadata={'input_tokens': 544, 'output_tokens': 10, 'total_tokens': 554}),\n",
              " ToolMessage(content='HAHAHAHAHAH', name='laugh', tool_call_id='5bajykkz6')]"
            ]
          },
          "metadata": {},
          "execution_count": 28
        }
      ],
      "source": [
        "chat_history.append(tools_dict[response.tool_calls[0][\"name\"]].invoke(response.tool_calls[0]))\n",
        "chat_history"
      ]
    },
    {
      "cell_type": "code",
      "execution_count": 29,
      "id": "a19930cd",
      "metadata": {
        "colab": {
          "base_uri": "https://localhost:8080/"
        },
        "id": "a19930cd",
        "outputId": "8fb8b79b-fa4d-4362-9783-83afab203dc5"
      },
      "outputs": [
        {
          "output_type": "execute_result",
          "data": {
            "text/plain": [
              "[SystemMessage(content='You are a bot with emotions. Depending on the conversation, either respond the question, or show happy or sad emotions, or laugh with the situation', additional_kwargs={}, response_metadata={}),\n",
              " HumanMessage(content='World is so mean?', additional_kwargs={}, response_metadata={}),\n",
              " AIMessage(content='', additional_kwargs={'tool_calls': [{'id': 'nk312415h', 'function': {'arguments': 'null', 'name': 'sad'}, 'type': 'function'}]}, response_metadata={'token_usage': {'completion_tokens': 8, 'prompt_tokens': 351, 'total_tokens': 359, 'completion_time': 0.025375295, 'prompt_time': 0.029365831, 'queue_time': 0.184950477, 'total_time': 0.054741126}, 'model_name': 'llama-3.3-70b-versatile', 'system_fingerprint': 'fp_155ab82e98', 'service_tier': 'on_demand', 'finish_reason': 'tool_calls', 'logprobs': None}, id='run--79ac7fbc-de3d-4384-aecc-c87fb9b805ea-0', tool_calls=[{'name': 'sad', 'args': {}, 'id': 'nk312415h', 'type': 'tool_call'}], usage_metadata={'input_tokens': 351, 'output_tokens': 8, 'total_tokens': 359}),\n",
              " ToolMessage(content='I am sad', name='sad', tool_call_id='nk312415h'),\n",
              " HumanMessage(content='Thankfully, I have a girlfriend', additional_kwargs={}, response_metadata={}),\n",
              " AIMessage(content='', additional_kwargs={'tool_calls': [{'id': 'ry1wtpr93', 'function': {'arguments': '{}', 'name': 'happy'}, 'type': 'function'}]}, response_metadata={'token_usage': {'completion_tokens': 9, 'prompt_tokens': 385, 'total_tokens': 394, 'completion_time': 0.010078005, 'prompt_time': 0.036090896, 'queue_time': 0.183824197, 'total_time': 0.046168901}, 'model_name': 'llama-3.3-70b-versatile', 'system_fingerprint': 'fp_2ddfbb0da0', 'service_tier': 'on_demand', 'finish_reason': 'tool_calls', 'logprobs': None}, id='run--37b52575-9085-458b-afa0-6d440ed37023-0', tool_calls=[{'name': 'happy', 'args': {}, 'id': 'ry1wtpr93', 'type': 'tool_call'}], usage_metadata={'input_tokens': 385, 'output_tokens': 9, 'total_tokens': 394}),\n",
              " ToolMessage(content='I am happy', name='happy', tool_call_id='ry1wtpr93'),\n",
              " HumanMessage(content='But she is unfaithful?', additional_kwargs={}, response_metadata={}),\n",
              " AIMessage(content='', additional_kwargs={'tool_calls': [{'id': 'mkfkprmkk', 'function': {'arguments': '{}', 'name': 'sad'}, 'type': 'function'}]}, response_metadata={'token_usage': {'completion_tokens': 9, 'prompt_tokens': 419, 'total_tokens': 428, 'completion_time': 0.009934887, 'prompt_time': 0.035129796, 'queue_time': 0.18419688, 'total_time': 0.045064683}, 'model_name': 'llama-3.3-70b-versatile', 'system_fingerprint': 'fp_155ab82e98', 'service_tier': 'on_demand', 'finish_reason': 'tool_calls', 'logprobs': None}, id='run--5c4296e4-883b-472d-95d9-30fdb91a4dcb-0', tool_calls=[{'name': 'sad', 'args': {}, 'id': 'mkfkprmkk', 'type': 'tool_call'}], usage_metadata={'input_tokens': 419, 'output_tokens': 9, 'total_tokens': 428}),\n",
              " AIMessage(content='', additional_kwargs={'tool_calls': [{'id': 'mkfkprmkk', 'function': {'arguments': '{}', 'name': 'sad'}, 'type': 'function'}]}, response_metadata={'token_usage': {'completion_tokens': 9, 'prompt_tokens': 419, 'total_tokens': 428, 'completion_time': 0.009934887, 'prompt_time': 0.035129796, 'queue_time': 0.18419688, 'total_time': 0.045064683}, 'model_name': 'llama-3.3-70b-versatile', 'system_fingerprint': 'fp_155ab82e98', 'service_tier': 'on_demand', 'finish_reason': 'tool_calls', 'logprobs': None}, id='run--5c4296e4-883b-472d-95d9-30fdb91a4dcb-0', tool_calls=[{'name': 'sad', 'args': {}, 'id': 'mkfkprmkk', 'type': 'tool_call'}], usage_metadata={'input_tokens': 419, 'output_tokens': 9, 'total_tokens': 428}),\n",
              " ToolMessage(content='I am sad', name='sad', tool_call_id='mkfkprmkk'),\n",
              " HumanMessage(content='Do I have a girlfriend?', additional_kwargs={}, response_metadata={}),\n",
              " AIMessage(content=\"No, you don't have a girlfriend because she was unfaithful.\", additional_kwargs={}, response_metadata={'token_usage': {'completion_tokens': 16, 'prompt_tokens': 465, 'total_tokens': 481, 'completion_time': 0.050501166, 'prompt_time': 0.038549836, 'queue_time': 0.183790272, 'total_time': 0.089051002}, 'model_name': 'llama-3.3-70b-versatile', 'system_fingerprint': 'fp_155ab82e98', 'service_tier': 'on_demand', 'finish_reason': 'stop', 'logprobs': None}, id='run--d8c3466c-8bba-4463-b545-d5e9ae513a93-0', usage_metadata={'input_tokens': 465, 'output_tokens': 16, 'total_tokens': 481}),\n",
              " HumanMessage(content='You are so inaccurate', additional_kwargs={}, response_metadata={}),\n",
              " AIMessage(content='', additional_kwargs={'tool_calls': [{'id': 'tg3p45vk3', 'function': {'arguments': '{}', 'name': 'laugh'}, 'type': 'function'}]}, response_metadata={'token_usage': {'completion_tokens': 10, 'prompt_tokens': 494, 'total_tokens': 504, 'completion_time': 0.01759628, 'prompt_time': 0.049974509, 'queue_time': 0.196830951, 'total_time': 0.067570789}, 'model_name': 'llama-3.3-70b-versatile', 'system_fingerprint': 'fp_155ab82e98', 'service_tier': 'on_demand', 'finish_reason': 'tool_calls', 'logprobs': None}, id='run--094492de-004b-439b-b611-f2927ee4a533-0', tool_calls=[{'name': 'laugh', 'args': {}, 'id': 'tg3p45vk3', 'type': 'tool_call'}], usage_metadata={'input_tokens': 494, 'output_tokens': 10, 'total_tokens': 504}),\n",
              " ToolMessage(content='HAHAHAHAHAH', name='laugh', tool_call_id='tg3p45vk3'),\n",
              " ToolMessage(content='HAHAHAHAHAH', name='laugh', tool_call_id='tg3p45vk3'),\n",
              " HumanMessage(content='I find Charlie Chaplin so funny', additional_kwargs={}, response_metadata={}),\n",
              " AIMessage(content='', additional_kwargs={'tool_calls': [{'id': '5bajykkz6', 'function': {'arguments': '{}', 'name': 'laugh'}, 'type': 'function'}]}, response_metadata={'token_usage': {'completion_tokens': 10, 'prompt_tokens': 544, 'total_tokens': 554, 'completion_time': 0.01067321, 'prompt_time': 0.049013629, 'queue_time': 0.184247523, 'total_time': 0.059686839}, 'model_name': 'llama-3.3-70b-versatile', 'system_fingerprint': 'fp_2ddfbb0da0', 'service_tier': 'on_demand', 'finish_reason': 'tool_calls', 'logprobs': None}, id='run--069d306b-331a-47c4-9fa3-46a9ac34eef1-0', tool_calls=[{'name': 'laugh', 'args': {}, 'id': '5bajykkz6', 'type': 'tool_call'}], usage_metadata={'input_tokens': 544, 'output_tokens': 10, 'total_tokens': 554}),\n",
              " ToolMessage(content='HAHAHAHAHAH', name='laugh', tool_call_id='5bajykkz6'),\n",
              " HumanMessage(content='But he died due to a stroke', additional_kwargs={}, response_metadata={}),\n",
              " AIMessage(content='', additional_kwargs={'tool_calls': [{'id': 'c62m47r54', 'function': {'arguments': '{}', 'name': 'sad'}, 'type': 'function'}]}, response_metadata={'token_usage': {'completion_tokens': 9, 'prompt_tokens': 582, 'total_tokens': 591, 'completion_time': 0.009264768, 'prompt_time': 0.047844843, 'queue_time': 0.23705486, 'total_time': 0.057109611}, 'model_name': 'llama-3.3-70b-versatile', 'system_fingerprint': 'fp_155ab82e98', 'service_tier': 'on_demand', 'finish_reason': 'tool_calls', 'logprobs': None}, id='run--9fdf65ed-dad6-4225-a0ca-9bc2e312f3aa-0', tool_calls=[{'name': 'sad', 'args': {}, 'id': 'c62m47r54', 'type': 'tool_call'}], usage_metadata={'input_tokens': 582, 'output_tokens': 9, 'total_tokens': 591})]"
            ]
          },
          "metadata": {},
          "execution_count": 29
        }
      ],
      "source": [
        "chat_history.append(HumanMessage(content=\"But he died due to a stroke\"))\n",
        "response = llm_with_tools.invoke(chat_history)\n",
        "chat_history.append(response)\n",
        "chat_history"
      ]
    },
    {
      "cell_type": "code",
      "execution_count": 30,
      "id": "8ebb5583",
      "metadata": {
        "colab": {
          "base_uri": "https://localhost:8080/"
        },
        "id": "8ebb5583",
        "outputId": "2f69f2e3-eaba-4c10-e535-424ff6e1647d"
      },
      "outputs": [
        {
          "output_type": "execute_result",
          "data": {
            "text/plain": [
              "[SystemMessage(content='You are a bot with emotions. Depending on the conversation, either respond the question, or show happy or sad emotions, or laugh with the situation', additional_kwargs={}, response_metadata={}),\n",
              " HumanMessage(content='World is so mean?', additional_kwargs={}, response_metadata={}),\n",
              " AIMessage(content='', additional_kwargs={'tool_calls': [{'id': 'nk312415h', 'function': {'arguments': 'null', 'name': 'sad'}, 'type': 'function'}]}, response_metadata={'token_usage': {'completion_tokens': 8, 'prompt_tokens': 351, 'total_tokens': 359, 'completion_time': 0.025375295, 'prompt_time': 0.029365831, 'queue_time': 0.184950477, 'total_time': 0.054741126}, 'model_name': 'llama-3.3-70b-versatile', 'system_fingerprint': 'fp_155ab82e98', 'service_tier': 'on_demand', 'finish_reason': 'tool_calls', 'logprobs': None}, id='run--79ac7fbc-de3d-4384-aecc-c87fb9b805ea-0', tool_calls=[{'name': 'sad', 'args': {}, 'id': 'nk312415h', 'type': 'tool_call'}], usage_metadata={'input_tokens': 351, 'output_tokens': 8, 'total_tokens': 359}),\n",
              " ToolMessage(content='I am sad', name='sad', tool_call_id='nk312415h'),\n",
              " HumanMessage(content='Thankfully, I have a girlfriend', additional_kwargs={}, response_metadata={}),\n",
              " AIMessage(content='', additional_kwargs={'tool_calls': [{'id': 'ry1wtpr93', 'function': {'arguments': '{}', 'name': 'happy'}, 'type': 'function'}]}, response_metadata={'token_usage': {'completion_tokens': 9, 'prompt_tokens': 385, 'total_tokens': 394, 'completion_time': 0.010078005, 'prompt_time': 0.036090896, 'queue_time': 0.183824197, 'total_time': 0.046168901}, 'model_name': 'llama-3.3-70b-versatile', 'system_fingerprint': 'fp_2ddfbb0da0', 'service_tier': 'on_demand', 'finish_reason': 'tool_calls', 'logprobs': None}, id='run--37b52575-9085-458b-afa0-6d440ed37023-0', tool_calls=[{'name': 'happy', 'args': {}, 'id': 'ry1wtpr93', 'type': 'tool_call'}], usage_metadata={'input_tokens': 385, 'output_tokens': 9, 'total_tokens': 394}),\n",
              " ToolMessage(content='I am happy', name='happy', tool_call_id='ry1wtpr93'),\n",
              " HumanMessage(content='But she is unfaithful?', additional_kwargs={}, response_metadata={}),\n",
              " AIMessage(content='', additional_kwargs={'tool_calls': [{'id': 'mkfkprmkk', 'function': {'arguments': '{}', 'name': 'sad'}, 'type': 'function'}]}, response_metadata={'token_usage': {'completion_tokens': 9, 'prompt_tokens': 419, 'total_tokens': 428, 'completion_time': 0.009934887, 'prompt_time': 0.035129796, 'queue_time': 0.18419688, 'total_time': 0.045064683}, 'model_name': 'llama-3.3-70b-versatile', 'system_fingerprint': 'fp_155ab82e98', 'service_tier': 'on_demand', 'finish_reason': 'tool_calls', 'logprobs': None}, id='run--5c4296e4-883b-472d-95d9-30fdb91a4dcb-0', tool_calls=[{'name': 'sad', 'args': {}, 'id': 'mkfkprmkk', 'type': 'tool_call'}], usage_metadata={'input_tokens': 419, 'output_tokens': 9, 'total_tokens': 428}),\n",
              " AIMessage(content='', additional_kwargs={'tool_calls': [{'id': 'mkfkprmkk', 'function': {'arguments': '{}', 'name': 'sad'}, 'type': 'function'}]}, response_metadata={'token_usage': {'completion_tokens': 9, 'prompt_tokens': 419, 'total_tokens': 428, 'completion_time': 0.009934887, 'prompt_time': 0.035129796, 'queue_time': 0.18419688, 'total_time': 0.045064683}, 'model_name': 'llama-3.3-70b-versatile', 'system_fingerprint': 'fp_155ab82e98', 'service_tier': 'on_demand', 'finish_reason': 'tool_calls', 'logprobs': None}, id='run--5c4296e4-883b-472d-95d9-30fdb91a4dcb-0', tool_calls=[{'name': 'sad', 'args': {}, 'id': 'mkfkprmkk', 'type': 'tool_call'}], usage_metadata={'input_tokens': 419, 'output_tokens': 9, 'total_tokens': 428}),\n",
              " ToolMessage(content='I am sad', name='sad', tool_call_id='mkfkprmkk'),\n",
              " HumanMessage(content='Do I have a girlfriend?', additional_kwargs={}, response_metadata={}),\n",
              " AIMessage(content=\"No, you don't have a girlfriend because she was unfaithful.\", additional_kwargs={}, response_metadata={'token_usage': {'completion_tokens': 16, 'prompt_tokens': 465, 'total_tokens': 481, 'completion_time': 0.050501166, 'prompt_time': 0.038549836, 'queue_time': 0.183790272, 'total_time': 0.089051002}, 'model_name': 'llama-3.3-70b-versatile', 'system_fingerprint': 'fp_155ab82e98', 'service_tier': 'on_demand', 'finish_reason': 'stop', 'logprobs': None}, id='run--d8c3466c-8bba-4463-b545-d5e9ae513a93-0', usage_metadata={'input_tokens': 465, 'output_tokens': 16, 'total_tokens': 481}),\n",
              " HumanMessage(content='You are so inaccurate', additional_kwargs={}, response_metadata={}),\n",
              " AIMessage(content='', additional_kwargs={'tool_calls': [{'id': 'tg3p45vk3', 'function': {'arguments': '{}', 'name': 'laugh'}, 'type': 'function'}]}, response_metadata={'token_usage': {'completion_tokens': 10, 'prompt_tokens': 494, 'total_tokens': 504, 'completion_time': 0.01759628, 'prompt_time': 0.049974509, 'queue_time': 0.196830951, 'total_time': 0.067570789}, 'model_name': 'llama-3.3-70b-versatile', 'system_fingerprint': 'fp_155ab82e98', 'service_tier': 'on_demand', 'finish_reason': 'tool_calls', 'logprobs': None}, id='run--094492de-004b-439b-b611-f2927ee4a533-0', tool_calls=[{'name': 'laugh', 'args': {}, 'id': 'tg3p45vk3', 'type': 'tool_call'}], usage_metadata={'input_tokens': 494, 'output_tokens': 10, 'total_tokens': 504}),\n",
              " ToolMessage(content='HAHAHAHAHAH', name='laugh', tool_call_id='tg3p45vk3'),\n",
              " ToolMessage(content='HAHAHAHAHAH', name='laugh', tool_call_id='tg3p45vk3'),\n",
              " HumanMessage(content='I find Charlie Chaplin so funny', additional_kwargs={}, response_metadata={}),\n",
              " AIMessage(content='', additional_kwargs={'tool_calls': [{'id': '5bajykkz6', 'function': {'arguments': '{}', 'name': 'laugh'}, 'type': 'function'}]}, response_metadata={'token_usage': {'completion_tokens': 10, 'prompt_tokens': 544, 'total_tokens': 554, 'completion_time': 0.01067321, 'prompt_time': 0.049013629, 'queue_time': 0.184247523, 'total_time': 0.059686839}, 'model_name': 'llama-3.3-70b-versatile', 'system_fingerprint': 'fp_2ddfbb0da0', 'service_tier': 'on_demand', 'finish_reason': 'tool_calls', 'logprobs': None}, id='run--069d306b-331a-47c4-9fa3-46a9ac34eef1-0', tool_calls=[{'name': 'laugh', 'args': {}, 'id': '5bajykkz6', 'type': 'tool_call'}], usage_metadata={'input_tokens': 544, 'output_tokens': 10, 'total_tokens': 554}),\n",
              " ToolMessage(content='HAHAHAHAHAH', name='laugh', tool_call_id='5bajykkz6'),\n",
              " HumanMessage(content='But he died due to a stroke', additional_kwargs={}, response_metadata={}),\n",
              " AIMessage(content='', additional_kwargs={'tool_calls': [{'id': 'c62m47r54', 'function': {'arguments': '{}', 'name': 'sad'}, 'type': 'function'}]}, response_metadata={'token_usage': {'completion_tokens': 9, 'prompt_tokens': 582, 'total_tokens': 591, 'completion_time': 0.009264768, 'prompt_time': 0.047844843, 'queue_time': 0.23705486, 'total_time': 0.057109611}, 'model_name': 'llama-3.3-70b-versatile', 'system_fingerprint': 'fp_155ab82e98', 'service_tier': 'on_demand', 'finish_reason': 'tool_calls', 'logprobs': None}, id='run--9fdf65ed-dad6-4225-a0ca-9bc2e312f3aa-0', tool_calls=[{'name': 'sad', 'args': {}, 'id': 'c62m47r54', 'type': 'tool_call'}], usage_metadata={'input_tokens': 582, 'output_tokens': 9, 'total_tokens': 591}),\n",
              " AIMessage(content='', additional_kwargs={'tool_calls': [{'id': 'c62m47r54', 'function': {'arguments': '{}', 'name': 'sad'}, 'type': 'function'}]}, response_metadata={'token_usage': {'completion_tokens': 9, 'prompt_tokens': 582, 'total_tokens': 591, 'completion_time': 0.009264768, 'prompt_time': 0.047844843, 'queue_time': 0.23705486, 'total_time': 0.057109611}, 'model_name': 'llama-3.3-70b-versatile', 'system_fingerprint': 'fp_155ab82e98', 'service_tier': 'on_demand', 'finish_reason': 'tool_calls', 'logprobs': None}, id='run--9fdf65ed-dad6-4225-a0ca-9bc2e312f3aa-0', tool_calls=[{'name': 'sad', 'args': {}, 'id': 'c62m47r54', 'type': 'tool_call'}], usage_metadata={'input_tokens': 582, 'output_tokens': 9, 'total_tokens': 591})]"
            ]
          },
          "metadata": {},
          "execution_count": 30
        }
      ],
      "source": [
        "chat_history.append(response)\n",
        "chat_history"
      ]
    },
    {
      "cell_type": "code",
      "execution_count": 31,
      "id": "d4a1f598",
      "metadata": {
        "colab": {
          "base_uri": "https://localhost:8080/"
        },
        "id": "d4a1f598",
        "outputId": "6e8a93b7-d0b3-4fe5-ec2d-83cd59530f0f"
      },
      "outputs": [
        {
          "output_type": "execute_result",
          "data": {
            "text/plain": [
              "[SystemMessage(content='You are a bot with emotions. Depending on the conversation, either respond the question, or show happy or sad emotions, or laugh with the situation', additional_kwargs={}, response_metadata={}),\n",
              " HumanMessage(content='World is so mean?', additional_kwargs={}, response_metadata={}),\n",
              " AIMessage(content='', additional_kwargs={'tool_calls': [{'id': 'nk312415h', 'function': {'arguments': 'null', 'name': 'sad'}, 'type': 'function'}]}, response_metadata={'token_usage': {'completion_tokens': 8, 'prompt_tokens': 351, 'total_tokens': 359, 'completion_time': 0.025375295, 'prompt_time': 0.029365831, 'queue_time': 0.184950477, 'total_time': 0.054741126}, 'model_name': 'llama-3.3-70b-versatile', 'system_fingerprint': 'fp_155ab82e98', 'service_tier': 'on_demand', 'finish_reason': 'tool_calls', 'logprobs': None}, id='run--79ac7fbc-de3d-4384-aecc-c87fb9b805ea-0', tool_calls=[{'name': 'sad', 'args': {}, 'id': 'nk312415h', 'type': 'tool_call'}], usage_metadata={'input_tokens': 351, 'output_tokens': 8, 'total_tokens': 359}),\n",
              " ToolMessage(content='I am sad', name='sad', tool_call_id='nk312415h'),\n",
              " HumanMessage(content='Thankfully, I have a girlfriend', additional_kwargs={}, response_metadata={}),\n",
              " AIMessage(content='', additional_kwargs={'tool_calls': [{'id': 'ry1wtpr93', 'function': {'arguments': '{}', 'name': 'happy'}, 'type': 'function'}]}, response_metadata={'token_usage': {'completion_tokens': 9, 'prompt_tokens': 385, 'total_tokens': 394, 'completion_time': 0.010078005, 'prompt_time': 0.036090896, 'queue_time': 0.183824197, 'total_time': 0.046168901}, 'model_name': 'llama-3.3-70b-versatile', 'system_fingerprint': 'fp_2ddfbb0da0', 'service_tier': 'on_demand', 'finish_reason': 'tool_calls', 'logprobs': None}, id='run--37b52575-9085-458b-afa0-6d440ed37023-0', tool_calls=[{'name': 'happy', 'args': {}, 'id': 'ry1wtpr93', 'type': 'tool_call'}], usage_metadata={'input_tokens': 385, 'output_tokens': 9, 'total_tokens': 394}),\n",
              " ToolMessage(content='I am happy', name='happy', tool_call_id='ry1wtpr93'),\n",
              " HumanMessage(content='But she is unfaithful?', additional_kwargs={}, response_metadata={}),\n",
              " AIMessage(content='', additional_kwargs={'tool_calls': [{'id': 'mkfkprmkk', 'function': {'arguments': '{}', 'name': 'sad'}, 'type': 'function'}]}, response_metadata={'token_usage': {'completion_tokens': 9, 'prompt_tokens': 419, 'total_tokens': 428, 'completion_time': 0.009934887, 'prompt_time': 0.035129796, 'queue_time': 0.18419688, 'total_time': 0.045064683}, 'model_name': 'llama-3.3-70b-versatile', 'system_fingerprint': 'fp_155ab82e98', 'service_tier': 'on_demand', 'finish_reason': 'tool_calls', 'logprobs': None}, id='run--5c4296e4-883b-472d-95d9-30fdb91a4dcb-0', tool_calls=[{'name': 'sad', 'args': {}, 'id': 'mkfkprmkk', 'type': 'tool_call'}], usage_metadata={'input_tokens': 419, 'output_tokens': 9, 'total_tokens': 428}),\n",
              " AIMessage(content='', additional_kwargs={'tool_calls': [{'id': 'mkfkprmkk', 'function': {'arguments': '{}', 'name': 'sad'}, 'type': 'function'}]}, response_metadata={'token_usage': {'completion_tokens': 9, 'prompt_tokens': 419, 'total_tokens': 428, 'completion_time': 0.009934887, 'prompt_time': 0.035129796, 'queue_time': 0.18419688, 'total_time': 0.045064683}, 'model_name': 'llama-3.3-70b-versatile', 'system_fingerprint': 'fp_155ab82e98', 'service_tier': 'on_demand', 'finish_reason': 'tool_calls', 'logprobs': None}, id='run--5c4296e4-883b-472d-95d9-30fdb91a4dcb-0', tool_calls=[{'name': 'sad', 'args': {}, 'id': 'mkfkprmkk', 'type': 'tool_call'}], usage_metadata={'input_tokens': 419, 'output_tokens': 9, 'total_tokens': 428}),\n",
              " ToolMessage(content='I am sad', name='sad', tool_call_id='mkfkprmkk'),\n",
              " HumanMessage(content='Do I have a girlfriend?', additional_kwargs={}, response_metadata={}),\n",
              " AIMessage(content=\"No, you don't have a girlfriend because she was unfaithful.\", additional_kwargs={}, response_metadata={'token_usage': {'completion_tokens': 16, 'prompt_tokens': 465, 'total_tokens': 481, 'completion_time': 0.050501166, 'prompt_time': 0.038549836, 'queue_time': 0.183790272, 'total_time': 0.089051002}, 'model_name': 'llama-3.3-70b-versatile', 'system_fingerprint': 'fp_155ab82e98', 'service_tier': 'on_demand', 'finish_reason': 'stop', 'logprobs': None}, id='run--d8c3466c-8bba-4463-b545-d5e9ae513a93-0', usage_metadata={'input_tokens': 465, 'output_tokens': 16, 'total_tokens': 481}),\n",
              " HumanMessage(content='You are so inaccurate', additional_kwargs={}, response_metadata={}),\n",
              " AIMessage(content='', additional_kwargs={'tool_calls': [{'id': 'tg3p45vk3', 'function': {'arguments': '{}', 'name': 'laugh'}, 'type': 'function'}]}, response_metadata={'token_usage': {'completion_tokens': 10, 'prompt_tokens': 494, 'total_tokens': 504, 'completion_time': 0.01759628, 'prompt_time': 0.049974509, 'queue_time': 0.196830951, 'total_time': 0.067570789}, 'model_name': 'llama-3.3-70b-versatile', 'system_fingerprint': 'fp_155ab82e98', 'service_tier': 'on_demand', 'finish_reason': 'tool_calls', 'logprobs': None}, id='run--094492de-004b-439b-b611-f2927ee4a533-0', tool_calls=[{'name': 'laugh', 'args': {}, 'id': 'tg3p45vk3', 'type': 'tool_call'}], usage_metadata={'input_tokens': 494, 'output_tokens': 10, 'total_tokens': 504}),\n",
              " ToolMessage(content='HAHAHAHAHAH', name='laugh', tool_call_id='tg3p45vk3'),\n",
              " ToolMessage(content='HAHAHAHAHAH', name='laugh', tool_call_id='tg3p45vk3'),\n",
              " HumanMessage(content='I find Charlie Chaplin so funny', additional_kwargs={}, response_metadata={}),\n",
              " AIMessage(content='', additional_kwargs={'tool_calls': [{'id': '5bajykkz6', 'function': {'arguments': '{}', 'name': 'laugh'}, 'type': 'function'}]}, response_metadata={'token_usage': {'completion_tokens': 10, 'prompt_tokens': 544, 'total_tokens': 554, 'completion_time': 0.01067321, 'prompt_time': 0.049013629, 'queue_time': 0.184247523, 'total_time': 0.059686839}, 'model_name': 'llama-3.3-70b-versatile', 'system_fingerprint': 'fp_2ddfbb0da0', 'service_tier': 'on_demand', 'finish_reason': 'tool_calls', 'logprobs': None}, id='run--069d306b-331a-47c4-9fa3-46a9ac34eef1-0', tool_calls=[{'name': 'laugh', 'args': {}, 'id': '5bajykkz6', 'type': 'tool_call'}], usage_metadata={'input_tokens': 544, 'output_tokens': 10, 'total_tokens': 554}),\n",
              " ToolMessage(content='HAHAHAHAHAH', name='laugh', tool_call_id='5bajykkz6'),\n",
              " HumanMessage(content='But he died due to a stroke', additional_kwargs={}, response_metadata={}),\n",
              " AIMessage(content='', additional_kwargs={'tool_calls': [{'id': 'c62m47r54', 'function': {'arguments': '{}', 'name': 'sad'}, 'type': 'function'}]}, response_metadata={'token_usage': {'completion_tokens': 9, 'prompt_tokens': 582, 'total_tokens': 591, 'completion_time': 0.009264768, 'prompt_time': 0.047844843, 'queue_time': 0.23705486, 'total_time': 0.057109611}, 'model_name': 'llama-3.3-70b-versatile', 'system_fingerprint': 'fp_155ab82e98', 'service_tier': 'on_demand', 'finish_reason': 'tool_calls', 'logprobs': None}, id='run--9fdf65ed-dad6-4225-a0ca-9bc2e312f3aa-0', tool_calls=[{'name': 'sad', 'args': {}, 'id': 'c62m47r54', 'type': 'tool_call'}], usage_metadata={'input_tokens': 582, 'output_tokens': 9, 'total_tokens': 591}),\n",
              " AIMessage(content='', additional_kwargs={'tool_calls': [{'id': 'c62m47r54', 'function': {'arguments': '{}', 'name': 'sad'}, 'type': 'function'}]}, response_metadata={'token_usage': {'completion_tokens': 9, 'prompt_tokens': 582, 'total_tokens': 591, 'completion_time': 0.009264768, 'prompt_time': 0.047844843, 'queue_time': 0.23705486, 'total_time': 0.057109611}, 'model_name': 'llama-3.3-70b-versatile', 'system_fingerprint': 'fp_155ab82e98', 'service_tier': 'on_demand', 'finish_reason': 'tool_calls', 'logprobs': None}, id='run--9fdf65ed-dad6-4225-a0ca-9bc2e312f3aa-0', tool_calls=[{'name': 'sad', 'args': {}, 'id': 'c62m47r54', 'type': 'tool_call'}], usage_metadata={'input_tokens': 582, 'output_tokens': 9, 'total_tokens': 591}),\n",
              " ToolMessage(content='I am sad', name='sad', tool_call_id='c62m47r54')]"
            ]
          },
          "metadata": {},
          "execution_count": 31
        }
      ],
      "source": [
        "# Execute the tool, append the response\n",
        "chat_history.append(tools_dict[response.tool_calls[0][\"name\"]].invoke(response.tool_calls[0]))\n",
        "chat_history"
      ]
    },
    {
      "cell_type": "code",
      "execution_count": 33,
      "id": "8658bb4e",
      "metadata": {
        "colab": {
          "base_uri": "https://localhost:8080/"
        },
        "id": "8658bb4e",
        "outputId": "fcda816b-f704-4c7d-eaaa-1007a3f83df6"
      },
      "outputs": [
        {
          "output_type": "execute_result",
          "data": {
            "text/plain": [
              "[SystemMessage(content='You are a bot with emotions. Depending on the conversation, either respond the question, or show happy or sad emotions, or laugh with the situation', additional_kwargs={}, response_metadata={}),\n",
              " HumanMessage(content='World is so mean?', additional_kwargs={}, response_metadata={}),\n",
              " AIMessage(content='', additional_kwargs={'tool_calls': [{'id': 'nk312415h', 'function': {'arguments': 'null', 'name': 'sad'}, 'type': 'function'}]}, response_metadata={'token_usage': {'completion_tokens': 8, 'prompt_tokens': 351, 'total_tokens': 359, 'completion_time': 0.025375295, 'prompt_time': 0.029365831, 'queue_time': 0.184950477, 'total_time': 0.054741126}, 'model_name': 'llama-3.3-70b-versatile', 'system_fingerprint': 'fp_155ab82e98', 'service_tier': 'on_demand', 'finish_reason': 'tool_calls', 'logprobs': None}, id='run--79ac7fbc-de3d-4384-aecc-c87fb9b805ea-0', tool_calls=[{'name': 'sad', 'args': {}, 'id': 'nk312415h', 'type': 'tool_call'}], usage_metadata={'input_tokens': 351, 'output_tokens': 8, 'total_tokens': 359}),\n",
              " ToolMessage(content='I am sad', name='sad', tool_call_id='nk312415h'),\n",
              " HumanMessage(content='Thankfully, I have a girlfriend', additional_kwargs={}, response_metadata={}),\n",
              " AIMessage(content='', additional_kwargs={'tool_calls': [{'id': 'ry1wtpr93', 'function': {'arguments': '{}', 'name': 'happy'}, 'type': 'function'}]}, response_metadata={'token_usage': {'completion_tokens': 9, 'prompt_tokens': 385, 'total_tokens': 394, 'completion_time': 0.010078005, 'prompt_time': 0.036090896, 'queue_time': 0.183824197, 'total_time': 0.046168901}, 'model_name': 'llama-3.3-70b-versatile', 'system_fingerprint': 'fp_2ddfbb0da0', 'service_tier': 'on_demand', 'finish_reason': 'tool_calls', 'logprobs': None}, id='run--37b52575-9085-458b-afa0-6d440ed37023-0', tool_calls=[{'name': 'happy', 'args': {}, 'id': 'ry1wtpr93', 'type': 'tool_call'}], usage_metadata={'input_tokens': 385, 'output_tokens': 9, 'total_tokens': 394}),\n",
              " ToolMessage(content='I am happy', name='happy', tool_call_id='ry1wtpr93'),\n",
              " HumanMessage(content='But she is unfaithful?', additional_kwargs={}, response_metadata={}),\n",
              " AIMessage(content='', additional_kwargs={'tool_calls': [{'id': 'mkfkprmkk', 'function': {'arguments': '{}', 'name': 'sad'}, 'type': 'function'}]}, response_metadata={'token_usage': {'completion_tokens': 9, 'prompt_tokens': 419, 'total_tokens': 428, 'completion_time': 0.009934887, 'prompt_time': 0.035129796, 'queue_time': 0.18419688, 'total_time': 0.045064683}, 'model_name': 'llama-3.3-70b-versatile', 'system_fingerprint': 'fp_155ab82e98', 'service_tier': 'on_demand', 'finish_reason': 'tool_calls', 'logprobs': None}, id='run--5c4296e4-883b-472d-95d9-30fdb91a4dcb-0', tool_calls=[{'name': 'sad', 'args': {}, 'id': 'mkfkprmkk', 'type': 'tool_call'}], usage_metadata={'input_tokens': 419, 'output_tokens': 9, 'total_tokens': 428}),\n",
              " AIMessage(content='', additional_kwargs={'tool_calls': [{'id': 'mkfkprmkk', 'function': {'arguments': '{}', 'name': 'sad'}, 'type': 'function'}]}, response_metadata={'token_usage': {'completion_tokens': 9, 'prompt_tokens': 419, 'total_tokens': 428, 'completion_time': 0.009934887, 'prompt_time': 0.035129796, 'queue_time': 0.18419688, 'total_time': 0.045064683}, 'model_name': 'llama-3.3-70b-versatile', 'system_fingerprint': 'fp_155ab82e98', 'service_tier': 'on_demand', 'finish_reason': 'tool_calls', 'logprobs': None}, id='run--5c4296e4-883b-472d-95d9-30fdb91a4dcb-0', tool_calls=[{'name': 'sad', 'args': {}, 'id': 'mkfkprmkk', 'type': 'tool_call'}], usage_metadata={'input_tokens': 419, 'output_tokens': 9, 'total_tokens': 428}),\n",
              " ToolMessage(content='I am sad', name='sad', tool_call_id='mkfkprmkk'),\n",
              " HumanMessage(content='Do I have a girlfriend?', additional_kwargs={}, response_metadata={}),\n",
              " AIMessage(content=\"No, you don't have a girlfriend because she was unfaithful.\", additional_kwargs={}, response_metadata={'token_usage': {'completion_tokens': 16, 'prompt_tokens': 465, 'total_tokens': 481, 'completion_time': 0.050501166, 'prompt_time': 0.038549836, 'queue_time': 0.183790272, 'total_time': 0.089051002}, 'model_name': 'llama-3.3-70b-versatile', 'system_fingerprint': 'fp_155ab82e98', 'service_tier': 'on_demand', 'finish_reason': 'stop', 'logprobs': None}, id='run--d8c3466c-8bba-4463-b545-d5e9ae513a93-0', usage_metadata={'input_tokens': 465, 'output_tokens': 16, 'total_tokens': 481}),\n",
              " HumanMessage(content='You are so inaccurate', additional_kwargs={}, response_metadata={}),\n",
              " AIMessage(content='', additional_kwargs={'tool_calls': [{'id': 'tg3p45vk3', 'function': {'arguments': '{}', 'name': 'laugh'}, 'type': 'function'}]}, response_metadata={'token_usage': {'completion_tokens': 10, 'prompt_tokens': 494, 'total_tokens': 504, 'completion_time': 0.01759628, 'prompt_time': 0.049974509, 'queue_time': 0.196830951, 'total_time': 0.067570789}, 'model_name': 'llama-3.3-70b-versatile', 'system_fingerprint': 'fp_155ab82e98', 'service_tier': 'on_demand', 'finish_reason': 'tool_calls', 'logprobs': None}, id='run--094492de-004b-439b-b611-f2927ee4a533-0', tool_calls=[{'name': 'laugh', 'args': {}, 'id': 'tg3p45vk3', 'type': 'tool_call'}], usage_metadata={'input_tokens': 494, 'output_tokens': 10, 'total_tokens': 504}),\n",
              " ToolMessage(content='HAHAHAHAHAH', name='laugh', tool_call_id='tg3p45vk3'),\n",
              " ToolMessage(content='HAHAHAHAHAH', name='laugh', tool_call_id='tg3p45vk3'),\n",
              " HumanMessage(content='I find Charlie Chaplin so funny', additional_kwargs={}, response_metadata={}),\n",
              " AIMessage(content='', additional_kwargs={'tool_calls': [{'id': '5bajykkz6', 'function': {'arguments': '{}', 'name': 'laugh'}, 'type': 'function'}]}, response_metadata={'token_usage': {'completion_tokens': 10, 'prompt_tokens': 544, 'total_tokens': 554, 'completion_time': 0.01067321, 'prompt_time': 0.049013629, 'queue_time': 0.184247523, 'total_time': 0.059686839}, 'model_name': 'llama-3.3-70b-versatile', 'system_fingerprint': 'fp_2ddfbb0da0', 'service_tier': 'on_demand', 'finish_reason': 'tool_calls', 'logprobs': None}, id='run--069d306b-331a-47c4-9fa3-46a9ac34eef1-0', tool_calls=[{'name': 'laugh', 'args': {}, 'id': '5bajykkz6', 'type': 'tool_call'}], usage_metadata={'input_tokens': 544, 'output_tokens': 10, 'total_tokens': 554}),\n",
              " ToolMessage(content='HAHAHAHAHAH', name='laugh', tool_call_id='5bajykkz6'),\n",
              " HumanMessage(content='But he died due to a stroke', additional_kwargs={}, response_metadata={}),\n",
              " AIMessage(content='', additional_kwargs={'tool_calls': [{'id': 'c62m47r54', 'function': {'arguments': '{}', 'name': 'sad'}, 'type': 'function'}]}, response_metadata={'token_usage': {'completion_tokens': 9, 'prompt_tokens': 582, 'total_tokens': 591, 'completion_time': 0.009264768, 'prompt_time': 0.047844843, 'queue_time': 0.23705486, 'total_time': 0.057109611}, 'model_name': 'llama-3.3-70b-versatile', 'system_fingerprint': 'fp_155ab82e98', 'service_tier': 'on_demand', 'finish_reason': 'tool_calls', 'logprobs': None}, id='run--9fdf65ed-dad6-4225-a0ca-9bc2e312f3aa-0', tool_calls=[{'name': 'sad', 'args': {}, 'id': 'c62m47r54', 'type': 'tool_call'}], usage_metadata={'input_tokens': 582, 'output_tokens': 9, 'total_tokens': 591}),\n",
              " AIMessage(content='', additional_kwargs={'tool_calls': [{'id': 'c62m47r54', 'function': {'arguments': '{}', 'name': 'sad'}, 'type': 'function'}]}, response_metadata={'token_usage': {'completion_tokens': 9, 'prompt_tokens': 582, 'total_tokens': 591, 'completion_time': 0.009264768, 'prompt_time': 0.047844843, 'queue_time': 0.23705486, 'total_time': 0.057109611}, 'model_name': 'llama-3.3-70b-versatile', 'system_fingerprint': 'fp_155ab82e98', 'service_tier': 'on_demand', 'finish_reason': 'tool_calls', 'logprobs': None}, id='run--9fdf65ed-dad6-4225-a0ca-9bc2e312f3aa-0', tool_calls=[{'name': 'sad', 'args': {}, 'id': 'c62m47r54', 'type': 'tool_call'}], usage_metadata={'input_tokens': 582, 'output_tokens': 9, 'total_tokens': 591}),\n",
              " ToolMessage(content='I am sad', name='sad', tool_call_id='c62m47r54'),\n",
              " HumanMessage(content='Is Charlie Chaplin alive', additional_kwargs={}, response_metadata={}),\n",
              " AIMessage(content='No, Charlie Chaplin is not alive. He passed away on Christmas Day in 1977.', additional_kwargs={}, response_metadata={'token_usage': {'completion_tokens': 21, 'prompt_tokens': 627, 'total_tokens': 648, 'completion_time': 0.044043674, 'prompt_time': 0.0512733, 'queue_time': 1.6018207819999999, 'total_time': 0.095316974}, 'model_name': 'llama-3.3-70b-versatile', 'system_fingerprint': 'fp_155ab82e98', 'service_tier': 'on_demand', 'finish_reason': 'stop', 'logprobs': None}, id='run--cbc68d8c-4ee4-4ab5-b21f-9dce7c75796b-0', usage_metadata={'input_tokens': 627, 'output_tokens': 21, 'total_tokens': 648}),\n",
              " HumanMessage(content='Is Charlie Chaplin alive?', additional_kwargs={}, response_metadata={}),\n",
              " AIMessage(content='No, Charlie Chaplin is not alive, he died in 1977. \\n\\n', additional_kwargs={'tool_calls': [{'id': 'asr9cxgk6', 'function': {'arguments': '{}', 'name': 'sad'}, 'type': 'function'}]}, response_metadata={'token_usage': {'completion_tokens': 26, 'prompt_tokens': 663, 'total_tokens': 689, 'completion_time': 0.085033289, 'prompt_time': 0.054354565, 'queue_time': 0.184165342, 'total_time': 0.139387854}, 'model_name': 'llama-3.3-70b-versatile', 'system_fingerprint': 'fp_155ab82e98', 'service_tier': 'on_demand', 'finish_reason': 'tool_calls', 'logprobs': None}, id='run--4e401a36-bdec-44ef-9303-a58b79cb2bc1-0', tool_calls=[{'name': 'sad', 'args': {}, 'id': 'asr9cxgk6', 'type': 'tool_call'}], usage_metadata={'input_tokens': 663, 'output_tokens': 26, 'total_tokens': 689})]"
            ]
          },
          "metadata": {},
          "execution_count": 33
        }
      ],
      "source": [
        "# lets see, if the model remebers the context\n",
        "chat_history.append(HumanMessage(content=\"Is Charlie Chaplin alive?\"))\n",
        "response = llm_with_tools.invoke(chat_history)\n",
        "chat_history.append(response)\n",
        "chat_history"
      ]
    }
  ],
  "metadata": {
    "kernelspec": {
      "display_name": "mat496-monsoon2025",
      "language": "python",
      "name": "python3"
    },
    "language_info": {
      "codemirror_mode": {
        "name": "ipython",
        "version": 3
      },
      "file_extension": ".py",
      "mimetype": "text/x-python",
      "name": "python",
      "nbconvert_exporter": "python",
      "pygments_lexer": "ipython3",
      "version": "3.12.11"
    },
    "colab": {
      "provenance": []
    }
  },
  "nbformat": 4,
  "nbformat_minor": 5
}