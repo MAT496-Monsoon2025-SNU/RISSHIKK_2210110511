{
 "cells": [
  {
   "cell_type": "code",
   "execution_count": 1,
   "id": "682c4c87",
   "metadata": {},
   "outputs": [
    {
     "data": {
      "text/plain": [
       "True"
      ]
     },
     "execution_count": 1,
     "metadata": {},
     "output_type": "execute_result"
    }
   ],
   "source": [
    "from dotenv import load_dotenv\n",
    "load_dotenv()"
   ]
  },
  {
   "cell_type": "markdown",
   "id": "2bb1d276",
   "metadata": {},
   "source": [
    "# Example 1"
   ]
  },
  {
   "cell_type": "code",
   "execution_count": 2,
   "id": "a0e461e5",
   "metadata": {},
   "outputs": [],
   "source": [
    "from langchain.chat_models import init_chat_model\n",
    "\n",
    "model = init_chat_model(\"llama3-8b-8192\", model_provider=\"groq\")"
   ]
  },
  {
   "cell_type": "code",
   "execution_count": 14,
   "id": "2ca18e76",
   "metadata": {},
   "outputs": [],
   "source": [
    "# Prompt template\n",
    "\n",
    "prompt_template = \"\"\"Given the number of people and the number of seats in roundtable, give all the possible arrangements.\n",
    "number: {num}\n",
    "seats: {seats}\n",
    "\"\"\""
   ]
  },
  {
   "cell_type": "code",
   "execution_count": null,
   "id": "8ca177aa",
   "metadata": {},
   "outputs": [
    {
     "name": "stdout",
     "output_type": "stream",
     "text": [
      "Given the number of people and the number of seats in roundtable, give all the possible arrangements.\n",
      "number: 7\n",
      "seats: 5\n",
      "\n"
     ]
    }
   ],
   "source": [
    "prompt = prompt_template.format(num = \"7\", seats=\"7 \")\n",
    "print(prompt)"
   ]
  },
  {
   "cell_type": "code",
   "execution_count": 19,
   "id": "a6f93f75",
   "metadata": {},
   "outputs": [
    {
     "name": "stdout",
     "output_type": "stream",
     "text": [
      "A classic problem!\n",
      "\n",
      "Since there are 7 people and only 5 seats, some people will have to sit on the floor. Let's find out how many people will sit on the floor.\n",
      "\n",
      "First, let's find the maximum number of people who can sit on the roundtable. This is the smallest multiple of 5 that is greater than or equal to 7:\n",
      "\n",
      "5 × 1 = 5 (not enough)\n",
      "5 × 2 = 10 (too many)\n",
      "5 × 1 = 5 (just right!)\n",
      "\n",
      "So, 3 people will sit on the floor, and 2 will sit on the roundtable.\n",
      "\n",
      "Here are all the possible arrangements:\n",
      "\n",
      "**Seating arrangements on the roundtable:**\n",
      "\n",
      "1. Person 1, Person 2, Person 5, Person 6, Person 7\n",
      "2. Person 1, Person 3, Person 4, Person 5, Person 6\n",
      "3. Person 1, Person 2, Person 3, Person 5, Person 6\n",
      "4. Person 1, Person 2, Person 4, Person 5, Person 7\n",
      "5. Person 1, Person 3, Person 4, Person 6, Person 7\n",
      "\n",
      "**Floor seating arrangements:**\n",
      "\n",
      "1. Person 3, Person 4\n",
      "2. Person 3, Person 5\n",
      "3. Person 4, Person 5\n",
      "4. Person 3, Person 6\n",
      "5. Person 4, Person 6\n",
      "6. Person 5, Person 6\n",
      "7. Person 3, Person 7\n",
      "8. Person 4, Person 7\n",
      "9. Person 5, Person 7\n",
      "10. Person 6, Person 7\n",
      "\n",
      "There are 15 possible arrangements in total.\n"
     ]
    }
   ],
   "source": [
    "# A simple model call\n",
    "\n",
    "response =  model.invoke(prompt)\n",
    "response\n",
    "\n",
    "print(response.content)"
   ]
  },
  {
   "cell_type": "markdown",
   "id": "ee4fd624",
   "metadata": {},
   "source": [
    "# Exercise: A RAG (Retrieval Augmented Generation) Prompt\n",
    "\n",
    "https://smith.langchain.com/hub/rlm/rag-prompt"
   ]
  },
  {
   "cell_type": "code",
   "execution_count": 20,
   "id": "959ec4c5",
   "metadata": {},
   "outputs": [],
   "source": [
    "prompt_template = \"\"\"You are an assistant for question-answering tasks. Use the following pieces of retrieved context to answer the question. If you don't know the answer, just say that you don't know. Use three sentences maximum and keep the answer concise.\n",
    "Question: {question} \n",
    "Context: {context} \n",
    "Answer:\"\"\""
   ]
  },
  {
   "cell_type": "code",
   "execution_count": 22,
   "id": "15482b5e",
   "metadata": {},
   "outputs": [
    {
     "name": "stdout",
     "output_type": "stream",
     "text": [
      "Risshi lives in Margao, which is located in the state of Goa, India.\n"
     ]
    }
   ],
   "source": [
    "prompt = prompt_template.format(\n",
    "    context = \"Risshi lives in Margao, country is India\", \n",
    "    question=\"In which state does Risshi live in?\"\n",
    ")\n",
    "\n",
    "from langchain.chat_models import init_chat_model\n",
    "model = init_chat_model(\"llama3-8b-8192\", model_provider=\"groq\")\n",
    "\n",
    "response = model.invoke(prompt)\n",
    "print(response.content)\n",
    "\n"
   ]
  }
 ],
 "metadata": {
  "kernelspec": {
   "display_name": "Python 3",
   "language": "python",
   "name": "python3"
  },
  "language_info": {
   "codemirror_mode": {
    "name": "ipython",
    "version": 3
   },
   "file_extension": ".py",
   "mimetype": "text/x-python",
   "name": "python",
   "nbconvert_exporter": "python",
   "pygments_lexer": "ipython3",
   "version": "3.10.11"
  }
 },
 "nbformat": 4,
 "nbformat_minor": 5
}
