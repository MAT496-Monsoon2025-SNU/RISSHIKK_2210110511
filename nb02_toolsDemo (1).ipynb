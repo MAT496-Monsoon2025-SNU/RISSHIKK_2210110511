{
  "cells": [
    {
      "cell_type": "code",
      "execution_count": 13,
      "id": "7963b495",
      "metadata": {
        "colab": {
          "base_uri": "https://localhost:8080/"
        },
        "id": "7963b495",
        "outputId": "6f5cd5e8-6615-42cd-8fbb-b70eb7c8d126"
      },
      "outputs": [
        {
          "output_type": "execute_result",
          "data": {
            "text/plain": [
              "False"
            ]
          },
          "metadata": {},
          "execution_count": 13
        }
      ],
      "source": [
        "import os\n",
        "from dotenv import load_dotenv\n",
        "load_dotenv(override=True)\n"
      ]
    },
    {
      "cell_type": "code",
      "source": [
        "SERPER_API_KEY = 'eb3b6f103c517a2441b3b5bafd4c060234c7e380'\n",
        "TAVILY_API_KEY = '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'"
      ],
      "metadata": {
        "id": "FU744xiNEwBZ"
      },
      "id": "FU744xiNEwBZ",
      "execution_count": 14,
      "outputs": []
    },
    {
      "cell_type": "markdown",
      "id": "f29aceec",
      "metadata": {
        "id": "f29aceec"
      },
      "source": [
        "# Web Search"
      ]
    },
    {
      "cell_type": "markdown",
      "id": "596550b2",
      "metadata": {
        "id": "596550b2"
      },
      "source": [
        "## Google Serper"
      ]
    },
    {
      "cell_type": "code",
      "execution_count": 15,
      "id": "c37124a3",
      "metadata": {
        "colab": {
          "base_uri": "https://localhost:8080/"
        },
        "id": "c37124a3",
        "outputId": "eb2d22dd-9243-464c-f191-cfc14c0f32d3"
      },
      "outputs": [
        {
          "output_type": "stream",
          "name": "stdout",
          "text": [
            "{\"searchParameters\":{\"q\":\"Ajit Kumar Shiv Nadar University\",\"gl\":\"in\",\"type\":\"search\",\"engine\":\"google\"},\"organic\":[{\"title\":\"Ajit Kumar\",\"link\":\"https://snu.edu.in/faculty/ajit-kumar/\",\"snippet\":\"Assistant Professor, School of Natural Sciences. Contact Information: Biography, Scholarly Activities, Research Interest, Education, 2011, Ph.D., Mathematics, ...\",\"position\":1},{\"title\":\"Ajit Kumar\",\"subtitle\":\"Noida, Uttar Pradesh, India · Assistant Professor of Mathematics · Shiv Nadar University\",\"link\":\"https://in.linkedin.com/in/ajit-kumar-81346352\",\"snippet\":\"As a faculty member, my primary expertise lies in teaching Applied Mathematics courses. I enjoy developing applications and writing code to solve real-world ...\",\"position\":2},{\"title\":\"Ajit Kumar | School of Engineering\",\"link\":\"https://snu.edu.in/schools/school-of-engineering/faculty/ajit-kumar/\",\"snippet\":\"Ajit Kumar. Assistant Professor School of Natural Sciences. Contact Information. Email: ajit.kumar@snu.edu.in; Number: Ext 270. Biography. Research Interest.\",\"position\":3},{\"title\":\"Ajit KUMAR | Shiv Nadar University, Dādri | Mathematics\",\"link\":\"https://www.researchgate.net/profile/Ajit-Kumar-76\",\"snippet\":\"Ajit KUMAR | Cited by 100 | of Shiv Nadar University, Dādri | Read 7 publications | Contact Ajit KUMAR.\",\"position\":4},{\"title\":\"B.Sc. ( Research ) In Mathematics India\",\"link\":\"https://snu.edu.in/departments/department-of-mathematics/\",\"snippet\":\"Faculty at Department of Mathematics · A. Satyanarayana Reddy · Ajit Kumar · Amber Habib · Chandranandan Gangopadhyay · Charu Sharma · Dipti Dubey · Indranil Biswas.\",\"position\":5},{\"title\":\"Faculty | School of Natural Sciences\",\"link\":\"https://snu.edu.in/schools/school-of-natural-sciences/faculty/\",\"snippet\":\"Aastha Dheer. Ramalingaswami Re-entry Fellow. Department of Life Sciences. Ajit Kumar. Assistant Professor School of Natural Sciences. Department ...\",\"position\":6},{\"title\":\"Dr. Ajit Kumar\",\"link\":\"https://scholar.google.com/citations?user=IVuwuEwAAAAJ&hl=en\",\"snippet\":\"Bimlesh LochabProfessor, Shiv Nadar UniversityVerified email at snu.edu.in ... SM Abhinanda Sengupta, Ajit Kumar, Gayatree Barik, Aakash Ahuja, Jit Ghosh ...\",\"position\":7},{\"title\":\"Ajit Kumar - Graphy\",\"link\":\"https://krajit.graphy.com/\",\"snippet\":\"Join Ajit Kumar and dive into diverse subjects and linguistic richness. ... Shiv Nadar University. Features.. Comprehensive Courses. Explore a wide range ...\",\"position\":8},{\"title\":\"Faculty\",\"link\":\"https://snu.edu.in/faculty/\",\"snippet\":\"Ajit Kumar. Assistant Professor School of Natural Sciences. Department of Mathematics. Ajmal Khan. Assistant Professor Rural Management ...\",\"position\":9},{\"title\":\"Research Excellence Initiatives\",\"link\":\"https://snu.edu.in/research/research-excellence-initiatives/\",\"snippet\":\"Ajit Kumar (Mathematics) | External Investigator: Dr. Gopalakrishnan Ananthanarayanan, Associate Professor, Center for Computational Engineering ...\",\"position\":10}],\"credits\":1}\n"
          ]
        }
      ],
      "source": [
        "import http.client\n",
        "import json\n",
        "import os\n",
        "\n",
        "conn = http.client.HTTPSConnection(\"google.serper.dev\")\n",
        "payload = json.dumps({\n",
        "  \"q\": \"Ajit Kumar Shiv Nadar University\",\n",
        "  \"gl\": \"in\"\n",
        "})\n",
        "headers = {\n",
        "  'X-API-KEY': SERPER_API_KEY,\n",
        "  'Content-Type': 'application/json'\n",
        "}\n",
        "conn.request(\"POST\", \"/search\", payload, headers)\n",
        "res = conn.getresponse()\n",
        "data = res.read()\n",
        "print(data.decode(\"utf-8\"))"
      ]
    },
    {
      "cell_type": "code",
      "execution_count": 16,
      "id": "b9202b95",
      "metadata": {
        "colab": {
          "base_uri": "https://localhost:8080/"
        },
        "id": "b9202b95",
        "outputId": "bd82605b-5a73-4d82-8fcb-bdadf8e2693c"
      },
      "outputs": [
        {
          "output_type": "execute_result",
          "data": {
            "text/plain": [
              "b'{\"searchParameters\":{\"q\":\"Ajit Kumar Shiv Nadar University\",\"gl\":\"in\",\"type\":\"search\",\"engine\":\"google\"},\"organic\":[{\"title\":\"Ajit Kumar\",\"link\":\"https://snu.edu.in/faculty/ajit-kumar/\",\"snippet\":\"Assistant Professor, School of Natural Sciences. Contact Information: Biography, Scholarly Activities, Research Interest, Education, 2011, Ph.D., Mathematics, ...\",\"position\":1},{\"title\":\"Ajit Kumar\",\"subtitle\":\"Noida, Uttar Pradesh, India \\xc2\\xb7 Assistant Professor of Mathematics \\xc2\\xb7 Shiv Nadar University\",\"link\":\"https://in.linkedin.com/in/ajit-kumar-81346352\",\"snippet\":\"As a faculty member, my primary expertise lies in teaching Applied Mathematics courses. I enjoy developing applications and writing code to solve real-world ...\",\"position\":2},{\"title\":\"Ajit Kumar | School of Engineering\",\"link\":\"https://snu.edu.in/schools/school-of-engineering/faculty/ajit-kumar/\",\"snippet\":\"Ajit Kumar. Assistant Professor School of Natural Sciences. Contact Information. Email: ajit.kumar@snu.edu.in; Number: Ext 270. Biography. Research Interest.\",\"position\":3},{\"title\":\"Ajit KUMAR | Shiv Nadar University, D\\xc4\\x81dri | Mathematics\",\"link\":\"https://www.researchgate.net/profile/Ajit-Kumar-76\",\"snippet\":\"Ajit KUMAR | Cited by 100 | of Shiv Nadar University, D\\xc4\\x81dri | Read 7 publications | Contact Ajit KUMAR.\",\"position\":4},{\"title\":\"B.Sc. ( Research ) In Mathematics India\",\"link\":\"https://snu.edu.in/departments/department-of-mathematics/\",\"snippet\":\"Faculty at Department of Mathematics \\xc2\\xb7 A. Satyanarayana Reddy \\xc2\\xb7 Ajit Kumar \\xc2\\xb7 Amber Habib \\xc2\\xb7 Chandranandan Gangopadhyay \\xc2\\xb7 Charu Sharma \\xc2\\xb7 Dipti Dubey \\xc2\\xb7 Indranil Biswas.\",\"position\":5},{\"title\":\"Faculty | School of Natural Sciences\",\"link\":\"https://snu.edu.in/schools/school-of-natural-sciences/faculty/\",\"snippet\":\"Aastha Dheer. Ramalingaswami Re-entry Fellow. Department of Life Sciences. Ajit Kumar. Assistant Professor School of Natural Sciences. Department ...\",\"position\":6},{\"title\":\"Dr. Ajit Kumar\",\"link\":\"https://scholar.google.com/citations?user=IVuwuEwAAAAJ&hl=en\",\"snippet\":\"Bimlesh LochabProfessor, Shiv Nadar UniversityVerified email at snu.edu.in ... SM Abhinanda Sengupta, Ajit Kumar, Gayatree Barik, Aakash Ahuja, Jit Ghosh ...\",\"position\":7},{\"title\":\"Ajit Kumar - Graphy\",\"link\":\"https://krajit.graphy.com/\",\"snippet\":\"Join Ajit Kumar and dive into diverse subjects and linguistic richness. ... Shiv Nadar University. Features.. Comprehensive Courses. Explore a wide range ...\",\"position\":8},{\"title\":\"Faculty\",\"link\":\"https://snu.edu.in/faculty/\",\"snippet\":\"Ajit Kumar. Assistant Professor School of Natural Sciences. Department of Mathematics. Ajmal Khan. Assistant Professor Rural Management ...\",\"position\":9},{\"title\":\"Research Excellence Initiatives\",\"link\":\"https://snu.edu.in/research/research-excellence-initiatives/\",\"snippet\":\"Ajit Kumar (Mathematics) | External Investigator: Dr. Gopalakrishnan Ananthanarayanan, Associate Professor, Center for Computational Engineering ...\",\"position\":10}],\"credits\":1}'"
            ]
          },
          "metadata": {},
          "execution_count": 16
        }
      ],
      "source": [
        "data"
      ]
    },
    {
      "cell_type": "code",
      "execution_count": 17,
      "id": "b3095312",
      "metadata": {
        "id": "b3095312"
      },
      "outputs": [],
      "source": [
        "import json\n",
        "\n",
        "data_dict = json.loads(data.decode(\"utf-8\"))"
      ]
    },
    {
      "cell_type": "code",
      "execution_count": 18,
      "id": "bcf3ca55",
      "metadata": {
        "colab": {
          "base_uri": "https://localhost:8080/"
        },
        "id": "bcf3ca55",
        "outputId": "aac895e6-770a-4a30-8b36-1e15a0cd1cf3"
      },
      "outputs": [
        {
          "output_type": "execute_result",
          "data": {
            "text/plain": [
              "[{'title': 'Ajit Kumar',\n",
              "  'link': 'https://snu.edu.in/faculty/ajit-kumar/',\n",
              "  'snippet': 'Assistant Professor, School of Natural Sciences. Contact Information: Biography, Scholarly Activities, Research Interest, Education, 2011, Ph.D., Mathematics, ...',\n",
              "  'position': 1},\n",
              " {'title': 'Ajit Kumar',\n",
              "  'subtitle': 'Noida, Uttar Pradesh, India · Assistant Professor of Mathematics · Shiv Nadar University',\n",
              "  'link': 'https://in.linkedin.com/in/ajit-kumar-81346352',\n",
              "  'snippet': 'As a faculty member, my primary expertise lies in teaching Applied Mathematics courses. I enjoy developing applications and writing code to solve real-world ...',\n",
              "  'position': 2},\n",
              " {'title': 'Ajit Kumar | School of Engineering',\n",
              "  'link': 'https://snu.edu.in/schools/school-of-engineering/faculty/ajit-kumar/',\n",
              "  'snippet': 'Ajit Kumar. Assistant Professor School of Natural Sciences. Contact Information. Email: ajit.kumar@snu.edu.in; Number: Ext 270. Biography. Research Interest.',\n",
              "  'position': 3},\n",
              " {'title': 'Ajit KUMAR | Shiv Nadar University, Dādri | Mathematics',\n",
              "  'link': 'https://www.researchgate.net/profile/Ajit-Kumar-76',\n",
              "  'snippet': 'Ajit KUMAR | Cited by 100 | of Shiv Nadar University, Dādri | Read 7 publications | Contact Ajit KUMAR.',\n",
              "  'position': 4},\n",
              " {'title': 'B.Sc. ( Research ) In Mathematics India',\n",
              "  'link': 'https://snu.edu.in/departments/department-of-mathematics/',\n",
              "  'snippet': 'Faculty at Department of Mathematics · A. Satyanarayana Reddy · Ajit Kumar · Amber Habib · Chandranandan Gangopadhyay · Charu Sharma · Dipti Dubey · Indranil Biswas.',\n",
              "  'position': 5},\n",
              " {'title': 'Faculty | School of Natural Sciences',\n",
              "  'link': 'https://snu.edu.in/schools/school-of-natural-sciences/faculty/',\n",
              "  'snippet': 'Aastha Dheer. Ramalingaswami Re-entry Fellow. Department of Life Sciences. Ajit Kumar. Assistant Professor School of Natural Sciences. Department ...',\n",
              "  'position': 6},\n",
              " {'title': 'Dr. Ajit Kumar',\n",
              "  'link': 'https://scholar.google.com/citations?user=IVuwuEwAAAAJ&hl=en',\n",
              "  'snippet': 'Bimlesh LochabProfessor, Shiv Nadar UniversityVerified email at snu.edu.in ... SM Abhinanda Sengupta, Ajit Kumar, Gayatree Barik, Aakash Ahuja, Jit Ghosh ...',\n",
              "  'position': 7},\n",
              " {'title': 'Ajit Kumar - Graphy',\n",
              "  'link': 'https://krajit.graphy.com/',\n",
              "  'snippet': 'Join Ajit Kumar and dive into diverse subjects and linguistic richness. ... Shiv Nadar University. Features.. Comprehensive Courses. Explore a wide range ...',\n",
              "  'position': 8},\n",
              " {'title': 'Faculty',\n",
              "  'link': 'https://snu.edu.in/faculty/',\n",
              "  'snippet': 'Ajit Kumar. Assistant Professor School of Natural Sciences. Department of Mathematics. Ajmal Khan. Assistant Professor Rural Management ...',\n",
              "  'position': 9},\n",
              " {'title': 'Research Excellence Initiatives',\n",
              "  'link': 'https://snu.edu.in/research/research-excellence-initiatives/',\n",
              "  'snippet': 'Ajit Kumar (Mathematics) | External Investigator: Dr. Gopalakrishnan Ananthanarayanan, Associate Professor, Center for Computational Engineering ...',\n",
              "  'position': 10}]"
            ]
          },
          "metadata": {},
          "execution_count": 18
        }
      ],
      "source": [
        "data_dict['organic']"
      ]
    },
    {
      "cell_type": "markdown",
      "id": "b3d808d0",
      "metadata": {
        "id": "b3d808d0"
      },
      "source": [
        "## Tavily\n",
        "\n"
      ]
    },
    {
      "cell_type": "code",
      "execution_count": 19,
      "id": "f71712ec",
      "metadata": {
        "collapsed": true,
        "id": "f71712ec"
      },
      "outputs": [],
      "source": [
        "# !pip install -U langchain-tavily"
      ]
    },
    {
      "cell_type": "code",
      "execution_count": 22,
      "id": "ebc88077",
      "metadata": {
        "id": "ebc88077"
      },
      "outputs": [],
      "source": [
        "from langchain_tavily import TavilySearch\n",
        "\n",
        "tool = TavilySearch(\n",
        "    tavily_api_key=TAVILY_API_KEY,\n",
        "    max_results=5,\n",
        "    topic=\"general\",\n",
        "    # include_answer=False,\n",
        "    # include_raw_content=False,\n",
        "    # include_images=False,\n",
        "    # include_image_descriptions=False,\n",
        "    # search_depth=\"basic\",\n",
        "    # time_range=\"day\",\n",
        "    # include_domains=None,\n",
        "    # exclude_domains=None\n",
        ")"
      ]
    },
    {
      "cell_type": "code",
      "execution_count": 23,
      "id": "433dd7ca",
      "metadata": {
        "colab": {
          "base_uri": "https://localhost:8080/"
        },
        "id": "433dd7ca",
        "outputId": "09817ba8-66d4-49b3-b70f-fae373842482"
      },
      "outputs": [
        {
          "output_type": "execute_result",
          "data": {
            "text/plain": [
              "{'query': 'Ajit Kumar Shiv Nadar University',\n",
              " 'follow_up_questions': None,\n",
              " 'answer': None,\n",
              " 'images': [],\n",
              " 'results': [{'url': 'https://snu.edu.in/schools/school-of-engineering/faculty/ajit-kumar/',\n",
              "   'title': 'Ajit Kumar | School of Engineering - Shiv Nadar University',\n",
              "   'content': 'Ajit Kumar. Assistant Professor School of Natural Sciences. Contact Information. Email: ajit.kumar@snu.edu.in; Number: Ext 270. Biography. Research Interest.',\n",
              "   'score': 0.8479807,\n",
              "   'raw_content': None},\n",
              "  {'url': 'https://snu.edu.in/faculty/ajit-kumar/',\n",
              "   'title': 'Ajit Kumar - Shiv Nadar University',\n",
              "   'content': 'Image 1: Shiv Nadar University Logo Image 2 Image 3 *   Admissions *   Programs *   Schools and Centers *   Department of Civil Engineering *   Department of Mechanical Engineering *   Department of Computer Science and Engineering *   Department of Chemical Engineering *   Department of Electrical Engineering *   Department of Chemistry *   Department of Life Sciences *   Department of Mathematics *   Department of Physics *   Department of Design *   Department of Economics *   Department of English *   Department of International Relations and Governance Studies *   Department of Sociology *   Department of Rural Management Image 6: Ajit Kumar Your Admission Assistant. *   Programs *   Admissions *   Schools and Centers *   Student Handbook *   Admission Blogs *   Parent Handbook *   For UG Admissions 1800-102-1768',\n",
              "   'score': 0.7507177,\n",
              "   'raw_content': None},\n",
              "  {'url': 'https://scholar.google.com/citations?user=IVuwuEwAAAAJ&hl=en',\n",
              "   'title': '\\u202aDr. Ajit Kumar\\u202c - \\u202aGoogle Scholar\\u202c',\n",
              "   'content': 'Bimlesh LochabProfessor, Shiv Nadar UniversityVerified email at snu.edu.in ... SM Abhinanda Sengupta, Ajit Kumar, Gayatree Barik, Aakash Ahuja, Jit Ghosh',\n",
              "   'score': 0.6864757,\n",
              "   'raw_content': None},\n",
              "  {'url': 'https://krajit.graphy.com/',\n",
              "   'title': 'Ajit Kumar - Graphy',\n",
              "   'content': 'Join Ajit Kumar and dive into diverse subjects and linguistic richness. ... Shiv Nadar University. Features.. Comprehensive Courses. Explore a wide range',\n",
              "   'score': 0.683948,\n",
              "   'raw_content': None},\n",
              "  {'url': 'https://www.researchgate.net/profile/Ajit-Kumar-76',\n",
              "   'title': 'Ajit KUMAR | Shiv Nadar University, Dādri | Research profile',\n",
              "   'content': 'Ajit KUMAR | Cited by 100 | of Shiv Nadar University, Dādri | Read 7 publications | Contact Ajit KUMAR.',\n",
              "   'score': 0.6765563,\n",
              "   'raw_content': None}],\n",
              " 'response_time': 0.83,\n",
              " 'request_id': '7187aac4-6e89-4fcf-b3f0-e9369a05c8a3'}"
            ]
          },
          "metadata": {},
          "execution_count": 23
        }
      ],
      "source": [
        "tool.invoke({\"query\": \"Ajit Kumar Shiv Nadar University\"})"
      ]
    }
  ],
  "metadata": {
    "kernelspec": {
      "display_name": "mat496-monsoon2025",
      "language": "python",
      "name": "python3"
    },
    "language_info": {
      "codemirror_mode": {
        "name": "ipython",
        "version": 3
      },
      "file_extension": ".py",
      "mimetype": "text/x-python",
      "name": "python",
      "nbconvert_exporter": "python",
      "pygments_lexer": "ipython3",
      "version": "3.12.11"
    },
    "colab": {
      "provenance": []
    }
  },
  "nbformat": 4,
  "nbformat_minor": 5
}