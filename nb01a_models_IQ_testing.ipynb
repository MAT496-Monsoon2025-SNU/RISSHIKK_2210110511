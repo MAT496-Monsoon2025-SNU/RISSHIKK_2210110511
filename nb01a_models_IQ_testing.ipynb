{
 "cells": [
  {
   "cell_type": "code",
   "execution_count": 5,
   "id": "682c4c87",
   "metadata": {},
   "outputs": [
    {
     "data": {
      "text/plain": [
       "True"
      ]
     },
     "execution_count": 5,
     "metadata": {},
     "output_type": "execute_result"
    }
   ],
   "source": [
    "from dotenv import load_dotenv\n",
    "load_dotenv()"
   ]
  },
  {
   "cell_type": "code",
   "execution_count": 6,
   "id": "a0e461e5",
   "metadata": {},
   "outputs": [],
   "source": [
    "from langchain.chat_models import init_chat_model\n",
    "\n",
    "model1 = init_chat_model(\"llama3-8b-8192\", model_provider=\"groq\")\n",
    "model2 = init_chat_model(\"deepseek-r1-distill-llama-70b\", model_provider=\"groq\")"
   ]
  },
  {
   "cell_type": "code",
   "execution_count": 7,
   "id": "8b215da3",
   "metadata": {},
   "outputs": [],
   "source": [
    "# invoking to build a converstation style call\n",
    "\n",
    "from langchain_core.messages import HumanMessage, SystemMessage\n",
    "\n",
    "messages = [\n",
    "    SystemMessage(\"You are a helpful assistant. Answer the user query to the best of your memory.\"),\n",
    "    HumanMessage(\"Suggest a question to test someone's IQ. Also give the answer.\"),\n",
    "]\n",
    "\n",
    "response = model1.invoke(messages)"
   ]
  },
  {
   "cell_type": "code",
   "execution_count": 8,
   "id": "bd612474",
   "metadata": {},
   "outputs": [
    {
     "data": {
      "text/plain": [
       "AIMessage(content='Here\\'s a classic IQ test question:\\n\\n\"What has a head, a tail, but no body?\"\\n\\nThink you can solve it?\\n\\nAnswer: A COIN!\\n\\nThis question tests your ability to think creatively and make connections between seemingly unrelated concepts. Coins have a \"head\" side and a \"tail\" side, but they don\\'t have a physical body. It\\'s a clever and challenging puzzle that requires you to think outside the box!\\n\\n(Note: IQ tests are not always a definitive measure of intelligence, and this question is just for fun. Intelligence is a complex and multi-faceted trait that cannot be reduced to a single number or score.)', additional_kwargs={}, response_metadata={'token_usage': {'completion_tokens': 130, 'prompt_tokens': 47, 'total_tokens': 177, 'completion_time': 0.096697565, 'prompt_time': 0.008664243, 'queue_time': 0.044395507, 'total_time': 0.105361808}, 'model_name': 'llama3-8b-8192', 'system_fingerprint': 'fp_4b5fbf0ced', 'service_tier': 'on_demand', 'finish_reason': 'stop', 'logprobs': None}, id='run--faf68dba-2963-4d98-8551-1964d1f50f7a-0', usage_metadata={'input_tokens': 47, 'output_tokens': 130, 'total_tokens': 177})"
      ]
     },
     "execution_count": 8,
     "metadata": {},
     "output_type": "execute_result"
    }
   ],
   "source": [
    "response"
   ]
  },
  {
   "cell_type": "code",
   "execution_count": 9,
   "id": "a444466b",
   "metadata": {},
   "outputs": [
    {
     "name": "stdout",
     "output_type": "stream",
     "text": [
      "Here's a classic IQ test question:\n",
      "\n",
      "\"What has a head, a tail, but no body?\"\n",
      "\n",
      "Think you can solve it?\n",
      "\n",
      "Answer: A COIN!\n",
      "\n",
      "This question tests your ability to think creatively and make connections between seemingly unrelated concepts. Coins have a \"head\" side and a \"tail\" side, but they don't have a physical body. It's a clever and challenging puzzle that requires you to think outside the box!\n",
      "\n",
      "(Note: IQ tests are not always a definitive measure of intelligence, and this question is just for fun. Intelligence is a complex and multi-faceted trait that cannot be reduced to a single number or score.)\n"
     ]
    }
   ],
   "source": [
    "print(response.content)"
   ]
  },
  {
   "cell_type": "code",
   "execution_count": 11,
   "id": "25606b23",
   "metadata": {},
   "outputs": [
    {
     "name": "stdout",
     "output_type": "stream",
     "text": [
      "<think>\n",
      "Okay, so I came across this riddle: \"What has a head, a tail, but no body?\" At first glance, it seems pretty straightforward, but I want to make sure I understand it correctly. Let me break it down.\n",
      "\n",
      "The riddle is asking for something that has a \"head\" and a \"tail,\" but it doesn't have a \"body.\" My initial thought is that it's a play on words, probably something common that we encounter every day. The structure of the riddle reminds me of others I've heard before, where the answer is a simple object with these parts.\n",
      "\n",
      "Let me think about things that have a head and a tail. The first thing that comes to mind is an animal, like a cat or a dog. They have heads and tails, but they also have bodies, so that doesn't fit the riddle because it specifies \"no body.\" So, animals are out.\n",
      "\n",
      "Next, maybe it's something man-made. Coins come to mind because they have a head on one side and a tail on the other. Wait, that's it! A coin has a head and a tail, and it doesn't have a body. That seems to fit perfectly. But let me make sure I'm not missing something.\n",
      "\n",
      "I should consider other possibilities to be thorough. Could it be something like a stamp? Stamps have a front and back, but I don't think they're referred to as head and tail. Or maybe a key? Keys have teeth and a bow, but not a head and tail. Hmm, maybe not.\n",
      "\n",
      "Another thought: maybe it's something like a shoe, but shoes have a toe and a heel, not head and tail. Or a pencil, which has an eraser and a tip, but again, not head and tail.\n",
      "\n",
      "Wait, what about a fish? Fish have heads and tails, but they definitely have bodies. So that's not it either.\n",
      "\n",
      "Let me think about other objects. Maybe something like a comet, which has a head and a tail, but that's more of a celestial body and might be stretching it. Plus, the riddle seems more grounded in everyday objects.\n",
      "\n",
      "So, going back to the coin idea. It makes sense because when you flip a coin, you refer to heads or tails. The coin itself is flat and doesn't have a body. It's just two sides. That seems to fit the riddle perfectly.\n",
      "\n",
      "I can't think of another common object that fits this description better. It's not an animal, and it's not something more abstract. The coin is the most straightforward answer.\n",
      "\n",
      "Wait, could it be a stamp? Let me think. Stamps have a front and back, but I don't think they're called head and tail. So, no, that doesn't fit. Maybe a key? No, as I thought earlier, keys have different parts.\n",
      "\n",
      "Another angle: sometimes riddles use body parts metaphorically. But in this case, head and tail are more literal. So the coin is the best fit.\n",
      "\n",
      "I think I've considered the possible alternatives, and the coin is the most logical answer. It's a classic riddle, so I'm pretty confident that's the intended answer.\n",
      "</think>\n",
      "\n",
      "The answer to the riddle \"What has a head, a tail, but no body?\" is a coin. A coin has a head on one side and a tail on the other, but it doesn't have a body. This is a classic play on words that fits the description perfectly.\n",
      "\n",
      "**Answer:** A coin.\n"
     ]
    }
   ],
   "source": [
    "# Lets test another model if they can solve this problem\n",
    "\n",
    "from langchain.chat_models import init_chat_model\n",
    "\n",
    "model2\n",
    "response = model2.invoke(\"What has a head, a tail, but no body?\")\n",
    "\n",
    "print(response.content)"
   ]
  },
  {
   "cell_type": "code",
   "execution_count": 12,
   "id": "6b585ea4",
   "metadata": {},
   "outputs": [
    {
     "name": "stdout",
     "output_type": "stream",
     "text": [
      "To assess the IQ score of this answer, I'll use a modified version of the Stanford-Binet Intelligence Scale, which is a widely used measure of cognitive abilities. Specifically, I'll evaluate the answer based on the following factors:\n",
      "\n",
      "1. Pattern recognition: Can the thinker recognize and apply patterns to solve the problem? (Score: 8/10)\n",
      "The thinker correctly identifies the pattern of \"head\" and \"tail\" and applies it to coins, which have heads and tails.\n",
      "2. Problem-solving: Can the thinker generate and evaluate potential solutions? (Score: 9/10)\n",
      "The thinker considers multiple possibilities, including animals, man-made objects, and even a comet, before settling on the correct answer.\n",
      "3. Critical thinking: Can the thinker distinguish between relevant and irrelevant information, and eliminate incorrect solutions? (Score: 9.5/10)\n",
      "The thinker carefully evaluates each possibility, eliminating animals and objects that don't fit the description, before arriving at the correct answer.\n",
      "4. Logical reasoning: Can the thinker use logical connections to arrive at a conclusion? (Score: 9/10)\n",
      "The thinker uses logical connections to link the concept of \"head\" and \"tail\" to the physical characteristics of coins.\n",
      "\n",
      "Based on these factors, I estimate the IQ score for this answer to be:\n",
      "\n",
      "**IQ Score: 124**\n",
      "\n",
      "This score indicates that the thinker has above-average cognitive abilities, with strengths in pattern recognition, problem-solving, critical thinking, and logical reasoning.\n"
     ]
    }
   ],
   "source": [
    "response = model1.invoke(\"\"\"<think>\n",
    "Okay, so I came across this riddle: \"What has a head, a tail, but no body?\" At first glance, it seems pretty straightforward, but I want to make sure I understand it correctly. Let me break it down.\n",
    "\n",
    "The riddle is asking for something that has a \"head\" and a \"tail,\" but it doesn't have a \"body.\" My initial thought is that it's a play on words, probably something common that we encounter every day. The structure of the riddle reminds me of others I've heard before, where the answer is a simple object with these parts.\n",
    "\n",
    "Let me think about things that have a head and a tail. The first thing that comes to mind is an animal, like a cat or a dog. They have heads and tails, but they also have bodies, so that doesn't fit the riddle because it specifies \"no body.\" So, animals are out.\n",
    "\n",
    "Next, maybe it's something man-made. Coins come to mind because they have a head on one side and a tail on the other. Wait, that's it! A coin has a head and a tail, and it doesn't have a body. That seems to fit perfectly. But let me make sure I'm not missing something.\n",
    "\n",
    "I should consider other possibilities to be thorough. Could it be something like a stamp? Stamps have a front and back, but I don't think they're referred to as head and tail. Or maybe a key? Keys have teeth and a bow, but not a head and tail. Hmm, maybe not.\n",
    "\n",
    "Another thought: maybe it's something like a shoe, but shoes have a toe and a heel, not head and tail. Or a pencil, which has an eraser and a tip, but again, not head and tail.\n",
    "\n",
    "Wait, what about a fish? Fish have heads and tails, but they definitely have bodies. So that's not it either.\n",
    "\n",
    "Let me think about other objects. Maybe something like a comet, which has a head and a tail, but that's more of a celestial body and might be stretching it. Plus, the riddle seems more grounded in everyday objects.\n",
    "\n",
    "So, going back to the coin idea. It makes sense because when you flip a coin, you refer to heads or tails. The coin itself is flat and doesn't have a body. It's just two sides. That seems to fit the riddle perfectly.\n",
    "\n",
    "I can't think of another common object that fits this description better. It's not an animal, and it's not something more abstract. The coin is the most straightforward answer.\n",
    "\n",
    "Wait, could it be a stamp? Let me think. Stamps have a front and back, but I don't think they're called head and tail. So, no, that doesn't fit. Maybe a key? No, as I thought earlier, keys have different parts.\n",
    "\n",
    "Another angle: sometimes riddles use body parts metaphorically. But in this case, head and tail are more literal. So the coin is the best fit.\n",
    "\n",
    "I think I've considered the possible alternatives, and the coin is the most logical answer. It's a classic riddle, so I'm pretty confident that's the intended answer.\n",
    "</think>\n",
    "\n",
    "The answer to the riddle \"What has a head, a tail, but no body?\" is a coin. A coin has a head on one side and a tail on the other, but it doesn't have a body. This is a classic play on words that fits the description perfectly.\n",
    "\n",
    "**Answer:** A coin.\n",
    "                         \n",
    "This is the thinking and answer that deepseek model came up with. Now give the IQ score for this answer\"\"\")\n",
    "\n",
    "print(response.content)"
   ]
  }
 ],
 "metadata": {
  "kernelspec": {
   "display_name": "Python 3",
   "language": "python",
   "name": "python3"
  },
  "language_info": {
   "codemirror_mode": {
    "name": "ipython",
    "version": 3
   },
   "file_extension": ".py",
   "mimetype": "text/x-python",
   "name": "python",
   "nbconvert_exporter": "python",
   "pygments_lexer": "ipython3",
   "version": "3.10.11"
  }
 },
 "nbformat": 4,
 "nbformat_minor": 5
}
